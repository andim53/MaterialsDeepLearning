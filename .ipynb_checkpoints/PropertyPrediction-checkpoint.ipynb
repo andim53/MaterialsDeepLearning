{
 "cells": [
  {
   "cell_type": "markdown",
   "id": "b4a4f30a-93b9-40d5-8a92-b6983a1dc15c",
   "metadata": {
    "jp-MarkdownHeadingCollapsed": true,
    "tags": []
   },
   "source": [
    "# Install"
   ]
  },
  {
   "cell_type": "code",
   "execution_count": null,
   "id": "wjtmKLjb7eEi",
   "metadata": {
    "colab": {
     "base_uri": "https://localhost:8080/"
    },
    "id": "wjtmKLjb7eEi",
    "outputId": "c705c561-25b6-4c13-d52d-ca2c77fe7833",
    "tags": []
   },
   "outputs": [],
   "source": [
    "# Installing all the package\n",
    "!pip install mp_api\n",
    "!pip install matminer"
   ]
  },
  {
   "cell_type": "markdown",
   "id": "c2213012-6922-4afc-a12b-3e8bc8d1acde",
   "metadata": {
    "id": "c2213012-6922-4afc-a12b-3e8bc8d1acde",
    "tags": []
   },
   "source": [
    "# Mining"
   ]
  },
  {
   "cell_type": "code",
   "execution_count": null,
   "id": "b9cce07d-4829-4c34-b270-2419f1645bba",
   "metadata": {
    "colab": {
     "base_uri": "https://localhost:8080/",
     "height": 104,
     "referenced_widgets": [
      "ae7cd4680653437ab3700ed012ff082c",
      "da018639fb094a199f3d6a2ac6e75cde",
      "6bb2056e5ad74b80b7da0a4a9cea932a",
      "aa3c7df4614d40838a1047b36505e638",
      "d90c95ce7ccb4ec89f658b1782c4e340",
      "497ade18b77243b7be8664abc93b2f07",
      "20d78e29036d40359906961fda1fe0de",
      "62ad3927ae2d4489b170fc392e25e57e",
      "aa4b465608774cef8485e62a97993d40",
      "db03b0e1ecc94feba184576c30c940b6",
      "7a2418f47bf34f3bb0349f47d0c0af72"
     ]
    },
    "id": "b9cce07d-4829-4c34-b270-2419f1645bba",
    "outputId": "39fa5dad-436a-4df1-a38a-a4b538d8268c",
    "tags": []
   },
   "outputs": [],
   "source": [
    "from mp_api.client import MPRester\n",
    "from emmet.core.summary import HasProps, summary_fields\n",
    "import pandas as pd\n",
    "\n",
    "API = \"05pwL0aLyXiEGNsZRFhKcju39mwEqbz8\"\n",
    "\n",
    "necessary_field = [\n",
    "    'material_id',\n",
    "    'formula_pretty',\n",
    "    'formula_anonymous',\n",
    "    'structure',\n",
    "    'chemsys',\n",
    "    'is_metal',\n",
    "    'symmetry'\n",
    "]\n",
    "\n",
    "wanted_field = summary_fields['elasticity'] # we want to find the Elasticity field\n",
    "wanted_properties = [HasProps.elasticity] # we want to find the Elasticity properties\n",
    "\n",
    "with MPRester(API) as mpr:\n",
    "    docs = mpr.materials.summary.search(\n",
    "        has_props = wanted_properties,\n",
    "        fields = necessary_field+wanted_field\n",
    "    )"
   ]
  },
  {
   "cell_type": "markdown",
   "id": "42206565-f5ed-4212-a66f-7bee06420631",
   "metadata": {
    "id": "42206565-f5ed-4212-a66f-7bee06420631"
   },
   "source": [
    "## Convert to DataFrame"
   ]
  },
  {
   "cell_type": "code",
   "execution_count": null,
   "id": "b86ffcfe-b479-49a3-b884-32675951bd86",
   "metadata": {
    "id": "b86ffcfe-b479-49a3-b884-32675951bd86",
    "tags": []
   },
   "outputs": [],
   "source": [
    "# Converting the data raw data into dataframe\n",
    "materials = []\n",
    "for material in docs:\n",
    "  material = dict(material)\n",
    "  materials.append(material)\n",
    "df = pd.DataFrame(materials)\n",
    "df = df[necessary_field+wanted_field]"
   ]
  },
  {
   "cell_type": "markdown",
   "id": "bad7fc01-3217-4137-a390-9855f416e1f5",
   "metadata": {
    "toc-hr-collapsed": true
   },
   "source": [
    "## Imoprting Data"
   ]
  },
  {
   "cell_type": "code",
   "execution_count": 42,
   "id": "3a48082b-8d48-4692-bf09-0b13568192bd",
   "metadata": {
    "tags": []
   },
   "outputs": [
    {
     "data": {
      "text/html": [
       "<div>\n",
       "<style scoped>\n",
       "    .dataframe tbody tr th:only-of-type {\n",
       "        vertical-align: middle;\n",
       "    }\n",
       "\n",
       "    .dataframe tbody tr th {\n",
       "        vertical-align: top;\n",
       "    }\n",
       "\n",
       "    .dataframe thead th {\n",
       "        text-align: right;\n",
       "    }\n",
       "</style>\n",
       "<table border=\"1\" class=\"dataframe\">\n",
       "  <thead>\n",
       "    <tr style=\"text-align: right;\">\n",
       "      <th></th>\n",
       "      <th>material_id</th>\n",
       "      <th>formula_pretty</th>\n",
       "      <th>formula_anonymous</th>\n",
       "      <th>structure</th>\n",
       "      <th>chemsys</th>\n",
       "      <th>is_metal</th>\n",
       "      <th>symmetry</th>\n",
       "      <th>k_voigt</th>\n",
       "      <th>k_reuss</th>\n",
       "      <th>k_vrh</th>\n",
       "      <th>g_voigt</th>\n",
       "      <th>g_reuss</th>\n",
       "      <th>g_vrh</th>\n",
       "      <th>universal_anisotropy</th>\n",
       "      <th>homogeneous_poisson</th>\n",
       "      <th>symmetry_number</th>\n",
       "    </tr>\n",
       "  </thead>\n",
       "  <tbody>\n",
       "    <tr>\n",
       "      <th>0</th>\n",
       "      <td>mp-23004</td>\n",
       "      <td>CsMgCl3</td>\n",
       "      <td>ABC3</td>\n",
       "      <td># generated using pymatgen\\ndata_CsMgCl3\\n_sym...</td>\n",
       "      <td>Cl-Cs-Mg</td>\n",
       "      <td>False</td>\n",
       "      <td>crystal_system=&lt;CrystalSystem.hex_: 'Hexagonal...</td>\n",
       "      <td>13.854623</td>\n",
       "      <td>12.956739</td>\n",
       "      <td>13.405681</td>\n",
       "      <td>7.202808</td>\n",
       "      <td>3.154573</td>\n",
       "      <td>5.178690</td>\n",
       "      <td>6.485755</td>\n",
       "      <td>0.328882</td>\n",
       "      <td>194</td>\n",
       "    </tr>\n",
       "    <tr>\n",
       "      <th>1</th>\n",
       "      <td>mp-5784</td>\n",
       "      <td>Na2GeO3</td>\n",
       "      <td>AB2C3</td>\n",
       "      <td># generated using pymatgen\\ndata_Na2GeO3\\n_sym...</td>\n",
       "      <td>Ge-Na-O</td>\n",
       "      <td>False</td>\n",
       "      <td>crystal_system=&lt;CrystalSystem.ortho: 'Orthorho...</td>\n",
       "      <td>53.780124</td>\n",
       "      <td>52.594577</td>\n",
       "      <td>53.187351</td>\n",
       "      <td>28.936248</td>\n",
       "      <td>26.443242</td>\n",
       "      <td>27.689745</td>\n",
       "      <td>0.493929</td>\n",
       "      <td>0.278188</td>\n",
       "      <td>36</td>\n",
       "    </tr>\n",
       "    <tr>\n",
       "      <th>2</th>\n",
       "      <td>mp-4681</td>\n",
       "      <td>NaNbO3</td>\n",
       "      <td>ABC3</td>\n",
       "      <td># generated using pymatgen\\ndata_NaNbO3\\n_symm...</td>\n",
       "      <td>Na-Nb-O</td>\n",
       "      <td>False</td>\n",
       "      <td>crystal_system=&lt;CrystalSystem.ortho: 'Orthorho...</td>\n",
       "      <td>88.850213</td>\n",
       "      <td>83.266084</td>\n",
       "      <td>86.058148</td>\n",
       "      <td>55.184470</td>\n",
       "      <td>47.672711</td>\n",
       "      <td>51.428591</td>\n",
       "      <td>0.854911</td>\n",
       "      <td>0.250833</td>\n",
       "      <td>26</td>\n",
       "    </tr>\n",
       "    <tr>\n",
       "      <th>3</th>\n",
       "      <td>mp-754318</td>\n",
       "      <td>MnZnO3</td>\n",
       "      <td>ABC3</td>\n",
       "      <td># generated using pymatgen\\ndata_MnZnO3\\n_symm...</td>\n",
       "      <td>Mn-O-Zn</td>\n",
       "      <td>False</td>\n",
       "      <td>crystal_system=&lt;CrystalSystem.trig: 'Trigonal'...</td>\n",
       "      <td>161.655076</td>\n",
       "      <td>158.225588</td>\n",
       "      <td>159.940332</td>\n",
       "      <td>61.303782</td>\n",
       "      <td>38.534549</td>\n",
       "      <td>49.919166</td>\n",
       "      <td>2.976067</td>\n",
       "      <td>0.358650</td>\n",
       "      <td>148</td>\n",
       "    </tr>\n",
       "    <tr>\n",
       "      <th>4</th>\n",
       "      <td>mp-555064</td>\n",
       "      <td>Cd(CO2)2</td>\n",
       "      <td>AB2C4</td>\n",
       "      <td># generated using pymatgen\\ndata_Cd(CO2)2\\n_sy...</td>\n",
       "      <td>C-Cd-O</td>\n",
       "      <td>False</td>\n",
       "      <td>crystal_system=&lt;CrystalSystem.mono: 'Monoclini...</td>\n",
       "      <td>54.364652</td>\n",
       "      <td>32.837697</td>\n",
       "      <td>43.601175</td>\n",
       "      <td>28.961662</td>\n",
       "      <td>16.161801</td>\n",
       "      <td>22.561731</td>\n",
       "      <td>4.615468</td>\n",
       "      <td>0.279333</td>\n",
       "      <td>14</td>\n",
       "    </tr>\n",
       "  </tbody>\n",
       "</table>\n",
       "</div>"
      ],
      "text/plain": [
       "  material_id formula_pretty formula_anonymous  \\\n",
       "0    mp-23004        CsMgCl3              ABC3   \n",
       "1     mp-5784        Na2GeO3             AB2C3   \n",
       "2     mp-4681         NaNbO3              ABC3   \n",
       "3   mp-754318         MnZnO3              ABC3   \n",
       "4   mp-555064       Cd(CO2)2             AB2C4   \n",
       "\n",
       "                                           structure   chemsys  is_metal  \\\n",
       "0  # generated using pymatgen\\ndata_CsMgCl3\\n_sym...  Cl-Cs-Mg     False   \n",
       "1  # generated using pymatgen\\ndata_Na2GeO3\\n_sym...   Ge-Na-O     False   \n",
       "2  # generated using pymatgen\\ndata_NaNbO3\\n_symm...   Na-Nb-O     False   \n",
       "3  # generated using pymatgen\\ndata_MnZnO3\\n_symm...   Mn-O-Zn     False   \n",
       "4  # generated using pymatgen\\ndata_Cd(CO2)2\\n_sy...    C-Cd-O     False   \n",
       "\n",
       "                                            symmetry     k_voigt     k_reuss  \\\n",
       "0  crystal_system=<CrystalSystem.hex_: 'Hexagonal...   13.854623   12.956739   \n",
       "1  crystal_system=<CrystalSystem.ortho: 'Orthorho...   53.780124   52.594577   \n",
       "2  crystal_system=<CrystalSystem.ortho: 'Orthorho...   88.850213   83.266084   \n",
       "3  crystal_system=<CrystalSystem.trig: 'Trigonal'...  161.655076  158.225588   \n",
       "4  crystal_system=<CrystalSystem.mono: 'Monoclini...   54.364652   32.837697   \n",
       "\n",
       "        k_vrh    g_voigt    g_reuss      g_vrh  universal_anisotropy  \\\n",
       "0   13.405681   7.202808   3.154573   5.178690              6.485755   \n",
       "1   53.187351  28.936248  26.443242  27.689745              0.493929   \n",
       "2   86.058148  55.184470  47.672711  51.428591              0.854911   \n",
       "3  159.940332  61.303782  38.534549  49.919166              2.976067   \n",
       "4   43.601175  28.961662  16.161801  22.561731              4.615468   \n",
       "\n",
       "   homogeneous_poisson  symmetry_number  \n",
       "0             0.328882              194  \n",
       "1             0.278188               36  \n",
       "2             0.250833               26  \n",
       "3             0.358650              148  \n",
       "4             0.279333               14  "
      ]
     },
     "execution_count": 42,
     "metadata": {},
     "output_type": "execute_result"
    }
   ],
   "source": [
    "import pandas as pd\n",
    "\n",
    "df = pd.read_csv('./Database/databaseSymmetry.csv')\n",
    "df.head()"
   ]
  },
  {
   "cell_type": "code",
   "execution_count": 3,
   "id": "f85730c8-92e5-45f8-9e41-423b9747301b",
   "metadata": {},
   "outputs": [
    {
     "data": {
      "text/plain": [
       "(array([1.000e+00, 0.000e+00, 0.000e+00, 5.000e+00, 2.324e+03, 4.028e+03,\n",
       "        7.170e+02, 3.100e+01, 0.000e+00, 2.000e+00]),\n",
       " array([-665.309044  , -520.39942846, -375.48981291, -230.58019737,\n",
       "         -85.67058182,   59.23903372,  204.14864927,  349.05826481,\n",
       "         493.96788036,  638.8774959 ,  783.78711145]),\n",
       " <BarContainer object of 10 artists>)"
      ]
     },
     "execution_count": 3,
     "metadata": {},
     "output_type": "execute_result"
    },
    {
     "data": {
      "image/png": "[encoded data removed]",
      "text/plain": [
       "<Figure size 640x480 with 1 Axes>"
      ]
     },
     "metadata": {},
     "output_type": "display_data"
    }
   ],
   "source": [
    "import matplotlib.pyplot as plt\n",
    "\n",
    "plt.hist(df['k_vrh'])"
   ]
  },
  {
   "cell_type": "markdown",
   "id": "409b9ac9-ae2d-4322-8862-4b8c8c863ffd",
   "metadata": {
    "id": "409b9ac9-ae2d-4322-8862-4b8c8c863ffd",
    "tags": []
   },
   "source": [
    "## Elastic Property"
   ]
  },
  {
   "cell_type": "code",
   "execution_count": 4,
   "id": "84eb79d9-66fa-4098-bc7c-bc68be34e395",
   "metadata": {
    "id": "84eb79d9-66fa-4098-bc7c-bc68be34e395",
    "outputId": "f32e3bca-38d9-4539-95d7-6c83aefc0f32",
    "tags": []
   },
   "outputs": [
    {
     "data": {
      "text/html": [
       "<div>\n",
       "<style scoped>\n",
       "    .dataframe tbody tr th:only-of-type {\n",
       "        vertical-align: middle;\n",
       "    }\n",
       "\n",
       "    .dataframe tbody tr th {\n",
       "        vertical-align: top;\n",
       "    }\n",
       "\n",
       "    .dataframe thead th {\n",
       "        text-align: right;\n",
       "    }\n",
       "</style>\n",
       "<table border=\"1\" class=\"dataframe\">\n",
       "  <thead>\n",
       "    <tr style=\"text-align: right;\">\n",
       "      <th></th>\n",
       "      <th>k_voigt</th>\n",
       "      <th>k_reuss</th>\n",
       "      <th>k_vrh</th>\n",
       "      <th>g_voigt</th>\n",
       "      <th>g_reuss</th>\n",
       "      <th>g_vrh</th>\n",
       "      <th>universal_anisotropy</th>\n",
       "      <th>homogeneous_poisson</th>\n",
       "      <th>symmetry_number</th>\n",
       "    </tr>\n",
       "  </thead>\n",
       "  <tbody>\n",
       "    <tr>\n",
       "      <th>count</th>\n",
       "      <td>7108.000000</td>\n",
       "      <td>7108.000000</td>\n",
       "      <td>7108.000000</td>\n",
       "      <td>7108.000000</td>\n",
       "      <td>7108.000000</td>\n",
       "      <td>7108.000000</td>\n",
       "      <td>7108.000000</td>\n",
       "      <td>7108.000000</td>\n",
       "      <td>7108.000000</td>\n",
       "    </tr>\n",
       "    <tr>\n",
       "      <th>mean</th>\n",
       "      <td>108.859490</td>\n",
       "      <td>104.365398</td>\n",
       "      <td>106.612444</td>\n",
       "      <td>53.954932</td>\n",
       "      <td>43.936623</td>\n",
       "      <td>48.945777</td>\n",
       "      <td>6.001285</td>\n",
       "      <td>0.287040</td>\n",
       "      <td>142.420934</td>\n",
       "    </tr>\n",
       "    <tr>\n",
       "      <th>std</th>\n",
       "      <td>75.156410</td>\n",
       "      <td>76.866762</td>\n",
       "      <td>75.554920</td>\n",
       "      <td>46.712508</td>\n",
       "      <td>162.481654</td>\n",
       "      <td>89.942096</td>\n",
       "      <td>429.829034</td>\n",
       "      <td>1.847910</td>\n",
       "      <td>74.546669</td>\n",
       "    </tr>\n",
       "    <tr>\n",
       "      <th>min</th>\n",
       "      <td>-665.309044</td>\n",
       "      <td>-665.309044</td>\n",
       "      <td>-665.309044</td>\n",
       "      <td>-401.863452</td>\n",
       "      <td>-6971.578892</td>\n",
       "      <td>-3476.434485</td>\n",
       "      <td>-13432.529515</td>\n",
       "      <td>-130.933087</td>\n",
       "      <td>1.000000</td>\n",
       "    </tr>\n",
       "    <tr>\n",
       "      <th>25%</th>\n",
       "      <td>48.813123</td>\n",
       "      <td>42.963905</td>\n",
       "      <td>45.914362</td>\n",
       "      <td>23.123391</td>\n",
       "      <td>14.642129</td>\n",
       "      <td>19.069248</td>\n",
       "      <td>0.148616</td>\n",
       "      <td>0.249817</td>\n",
       "      <td>63.000000</td>\n",
       "    </tr>\n",
       "    <tr>\n",
       "      <th>50%</th>\n",
       "      <td>99.572138</td>\n",
       "      <td>93.878449</td>\n",
       "      <td>96.739199</td>\n",
       "      <td>44.769164</td>\n",
       "      <td>36.254137</td>\n",
       "      <td>39.923357</td>\n",
       "      <td>0.513824</td>\n",
       "      <td>0.292658</td>\n",
       "      <td>164.000000</td>\n",
       "    </tr>\n",
       "    <tr>\n",
       "      <th>75%</th>\n",
       "      <td>157.789178</td>\n",
       "      <td>154.341686</td>\n",
       "      <td>155.358549</td>\n",
       "      <td>75.354341</td>\n",
       "      <td>69.019683</td>\n",
       "      <td>72.328637</td>\n",
       "      <td>1.623286</td>\n",
       "      <td>0.333117</td>\n",
       "      <td>216.000000</td>\n",
       "    </tr>\n",
       "    <tr>\n",
       "      <th>max</th>\n",
       "      <td>802.535923</td>\n",
       "      <td>765.038300</td>\n",
       "      <td>783.787111</td>\n",
       "      <td>529.122310</td>\n",
       "      <td>6565.863282</td>\n",
       "      <td>3295.183506</td>\n",
       "      <td>30571.028103</td>\n",
       "      <td>77.046915</td>\n",
       "      <td>230.000000</td>\n",
       "    </tr>\n",
       "  </tbody>\n",
       "</table>\n",
       "</div>"
      ],
      "text/plain": [
       "           k_voigt      k_reuss        k_vrh      g_voigt      g_reuss  \\\n",
       "count  7108.000000  7108.000000  7108.000000  7108.000000  7108.000000   \n",
       "mean    108.859490   104.365398   106.612444    53.954932    43.936623   \n",
       "std      75.156410    76.866762    75.554920    46.712508   162.481654   \n",
       "min    -665.309044  -665.309044  -665.309044  -401.863452 -6971.578892   \n",
       "25%      48.813123    42.963905    45.914362    23.123391    14.642129   \n",
       "50%      99.572138    93.878449    96.739199    44.769164    36.254137   \n",
       "75%     157.789178   154.341686   155.358549    75.354341    69.019683   \n",
       "max     802.535923   765.038300   783.787111   529.122310  6565.863282   \n",
       "\n",
       "             g_vrh  universal_anisotropy  homogeneous_poisson  symmetry_number  \n",
       "count  7108.000000           7108.000000          7108.000000      7108.000000  \n",
       "mean     48.945777              6.001285             0.287040       142.420934  \n",
       "std      89.942096            429.829034             1.847910        74.546669  \n",
       "min   -3476.434485         -13432.529515          -130.933087         1.000000  \n",
       "25%      19.069248              0.148616             0.249817        63.000000  \n",
       "50%      39.923357              0.513824             0.292658       164.000000  \n",
       "75%      72.328637              1.623286             0.333117       216.000000  \n",
       "max    3295.183506          30571.028103            77.046915       230.000000  "
      ]
     },
     "execution_count": 4,
     "metadata": {},
     "output_type": "execute_result"
    }
   ],
   "source": [
    "df.describe()"
   ]
  },
  {
   "cell_type": "code",
   "execution_count": 5,
   "id": "3f732014-d0a4-492f-a7cf-bd1d3e481399",
   "metadata": {
    "id": "3f732014-d0a4-492f-a7cf-bd1d3e481399",
    "outputId": "15530c7c-67a5-4e24-af13-8574cc24ac56",
    "tags": []
   },
   "outputs": [
    {
     "data": {
      "text/plain": [
       "(7108, 16)"
      ]
     },
     "execution_count": 5,
     "metadata": {},
     "output_type": "execute_result"
    }
   ],
   "source": [
    "df.shape"
   ]
  },
  {
   "cell_type": "code",
   "execution_count": 43,
   "id": "9b926d6a-1683-4b4e-a71b-d2c6cdc37002",
   "metadata": {
    "id": "9b926d6a-1683-4b4e-a71b-d2c6cdc37002",
    "outputId": "49526de4-6816-489b-d95e-f66c3aaf3e77",
    "tags": []
   },
   "outputs": [
    {
     "data": {
      "text/plain": [
       "material_id             0\n",
       "formula_pretty          0\n",
       "formula_anonymous       0\n",
       "structure               0\n",
       "chemsys                 0\n",
       "is_metal                0\n",
       "symmetry                0\n",
       "k_voigt                 0\n",
       "k_reuss                 0\n",
       "k_vrh                   0\n",
       "g_voigt                 0\n",
       "g_reuss                 0\n",
       "g_vrh                   0\n",
       "universal_anisotropy    0\n",
       "homogeneous_poisson     0\n",
       "symmetry_number         0\n",
       "dtype: int64"
      ]
     },
     "execution_count": 43,
     "metadata": {},
     "output_type": "execute_result"
    }
   ],
   "source": [
    "df.isnull().sum()"
   ]
  },
  {
   "cell_type": "markdown",
   "id": "d69db47c-7e93-45ae-9ec2-f6c9991cc07c",
   "metadata": {
    "id": "d69db47c-7e93-45ae-9ec2-f6c9991cc07c",
    "tags": []
   },
   "source": [
    "### Space group"
   ]
  },
  {
   "cell_type": "code",
   "execution_count": null,
   "id": "286d2276-0034-4e6c-a502-3c1688fe7b66",
   "metadata": {
    "id": "286d2276-0034-4e6c-a502-3c1688fe7b66",
    "outputId": "481b8562-a456-4ef0-efb0-1c22e4ae989b",
    "tags": []
   },
   "outputs": [],
   "source": [
    "group_nums = []\n",
    "\n",
    "for index, row in df.iterrows():\n",
    "    group_num = row.symmetry.number\n",
    "    group_nums.append(group_num)\n",
    "\n",
    "df['Group_Number'] = group_nums\n",
    "df.head()"
   ]
  },
  {
   "cell_type": "markdown",
   "id": "fa20d6ad-79ca-4012-8acd-20faf403c62e",
   "metadata": {
    "id": "fa20d6ad-79ca-4012-8acd-20faf403c62e",
    "jp-MarkdownHeadingCollapsed": true,
    "tags": []
   },
   "source": [
    "### Plotting the k_vrh and g_vrh"
   ]
  },
  {
   "cell_type": "code",
   "execution_count": null,
   "id": "5fe0de0f-8492-464d-9979-f11da910b0ca",
   "metadata": {
    "id": "5fe0de0f-8492-464d-9979-f11da910b0ca",
    "outputId": "91bcb601-b9f7-4ac1-b558-d73def1993fa",
    "tags": []
   },
   "outputs": [],
   "source": [
    "import seaborn as sns\n",
    "import numpy as np\n",
    "import matplotlib.pyplot as plt\n",
    "\n",
    "k_vrh = df['k_vrh'].to_numpy()\n",
    "k_vrh_range = np.max(k_vrh) - np.min(k_vrh)\n",
    "\n",
    "plt.figure(figsize=(8,6))\n",
    "\n",
    "sns.histplot(df['k_vrh'], color = 'blue')\n",
    "\n",
    "plt.xlabel('GPa')\n",
    "plt.ylabel('Count')\n",
    "plt.grid(True)\n",
    "\n",
    "plt.savefig('Images/histogram_k_vrh.png', bbox_inches='tight')\n",
    "plt.show()"
   ]
  },
  {
   "cell_type": "code",
   "execution_count": null,
   "id": "01507c06-042e-4d79-bf87-37a03e588a95",
   "metadata": {
    "id": "01507c06-042e-4d79-bf87-37a03e588a95",
    "outputId": "62c6dc0f-d771-4ec1-d85c-12a8e2945124",
    "tags": []
   },
   "outputs": [],
   "source": [
    "import seaborn as sns\n",
    "import matplotlib.pyplot as plt\n",
    "import numpy as np\n",
    "\n",
    "# Prepare the data for plotting.\n",
    "g_vrh = df['g_vrh'].to_numpy()\n",
    "g_vrh_range = np.max(g_vrh) - np.min(g_vrh)\n",
    "\n",
    "# Create the histogram plot.\n",
    "plt.figure(figsize=(8, 6))\n",
    "sns.histplot(g_vrh, color='blue')\n",
    "\n",
    "# Set the title and axis labels.\n",
    "plt.xlabel('GPa')\n",
    "plt.ylabel('Count')\n",
    "\n",
    "# Add grid lines.\n",
    "plt.grid(True)\n",
    "\n",
    "# Save the plot.\n",
    "plt.savefig('Images/histogram_g_vrh.png', bbox_inches='tight')\n",
    "\n",
    "plt.show()"
   ]
  },
  {
   "cell_type": "code",
   "execution_count": null,
   "id": "74a1fc7a-59b9-4cc1-83a0-b1b343a37186",
   "metadata": {
    "id": "74a1fc7a-59b9-4cc1-83a0-b1b343a37186",
    "outputId": "9ab10d4b-3ac8-4be5-a98b-286aa2937951",
    "tags": []
   },
   "outputs": [],
   "source": [
    "import seaborn as sns\n",
    "import matplotlib.pyplot as plt\n",
    "import numpy as np\n",
    "\n",
    "# Prepare the data for plotting.\n",
    "group_num = df['Group_Number'].to_numpy()\n",
    "group_num_labels = [str(g) for g in group_num]\n",
    "\n",
    "fig, ax = plt.subplots(1, 1)\n",
    "ax.hist(group_num)\n",
    "\n",
    "# # Create the histogram plot.\n",
    "# plt.figure(figsize=(8, 6))\n",
    "# sns.histplot(group_num, color='blue')\n",
    "\n",
    "# Set the title and axis labels.\n",
    "ax.set_xlabel('Group Number')\n",
    "ax.set_ylabel('Count')\n",
    "\n",
    "# Add grid lines.\n",
    "plt.grid(True)\n",
    "\n",
    "rects = ax.patches\n",
    "for rect, label in zip(rects, group_num_labels):\n",
    "    height = rect.get_height()\n",
    "    ax.text(rect.get_x() + rect.get_width() / 2, height+0.01, label,\n",
    "            ha='center', va='bottom')\n",
    "\n",
    "# Save the plot.\n",
    "plt.savefig('Images/histogram_Group_Number.png', bbox_inches='tight')\n",
    "\n",
    "plt.show()"
   ]
  },
  {
   "cell_type": "markdown",
   "id": "644b408b-a368-48e6-99aa-e00cf983dc39",
   "metadata": {
    "id": "644b408b-a368-48e6-99aa-e00cf983dc39",
    "tags": []
   },
   "source": [
    "### Converting the structure to cif string and saving it."
   ]
  },
  {
   "cell_type": "code",
   "execution_count": null,
   "id": "29d417cb-91da-46f9-9e32-d049357a1c58",
   "metadata": {
    "id": "29d417cb-91da-46f9-9e32-d049357a1c58",
    "outputId": "e49f4f3c-494f-459f-f4df-42479f6a728f",
    "tags": []
   },
   "outputs": [],
   "source": [
    "from pymatgen.io.cif import CifWriter\n",
    "\n",
    "df_save = df.copy()\n",
    "\n",
    "structure_cif = []\n",
    "for index, row in df_save.iterrows():\n",
    "    structure = row[\"structure\"]\n",
    "    cif_writer = CifWriter(structure)\n",
    "    cif_string = cif_writer.__str__()\n",
    "    structure_cif.append(cif_string)\n",
    "\n",
    "df_save['structure']=structure_cif\n",
    "\n",
    "# Save the DataFrame to an Excel file\n",
    "df_save.to_csv(\"Database/DataBase.csv\", index=False)"
   ]
  },
  {
   "cell_type": "markdown",
   "id": "e0605b75-b820-4aaa-92da-0e25f3f43734",
   "metadata": {
    "id": "e0605b75-b820-4aaa-92da-0e25f3f43734",
    "tags": []
   },
   "source": [
    "## Converting the CIF string into Pymatgen Structure"
   ]
  },
  {
   "cell_type": "code",
   "execution_count": null,
   "id": "c4bc9a5c-c4f7-463a-aba9-3296f9b5ea8e",
   "metadata": {
    "tags": []
   },
   "outputs": [],
   "source": [
    "import pandas as pd\n",
    "from pymatgen.io.cif import CifParser\n",
    "from ase import Atoms\n",
    "import numpy as np\n",
    "\n",
    "structures = []\n",
    "\n",
    "for n, cif in enumerate(np.array(df['structure'])):\n",
    "    parser = CifParser.from_string(cif)\n",
    "    structure = parser.get_structures()\n",
    "\n",
    "    structures.append(structure)\n",
    "\n",
    "df['structures_convert'] = structures"
   ]
  },
  {
   "cell_type": "code",
   "execution_count": null,
   "id": "d2b970dd-7ff5-4005-b223-9ebe996e7588",
   "metadata": {
    "tags": []
   },
   "outputs": [],
   "source": [
    "import scripts.Cif2Pymatgen as cif\n",
    "\n",
    "cif.convert(df)"
   ]
  },
  {
   "cell_type": "markdown",
   "id": "b921740a-6563-48a8-82e0-1650773fd7d7",
   "metadata": {
    "id": "b921740a-6563-48a8-82e0-1650773fd7d7",
    "tags": [],
    "toc-hr-collapsed": true
   },
   "source": [
    "# Descriptors"
   ]
  },
  {
   "cell_type": "markdown",
   "id": "a0879224-85b5-433a-923e-60ca81f83999",
   "metadata": {
    "id": "a0879224-85b5-433a-923e-60ca81f83999"
   },
   "source": [
    "## Formula String to Composition"
   ]
  },
  {
   "cell_type": "code",
   "execution_count": 44,
   "id": "49cb1931-8a4a-4f67-910e-9fd6c004b61e",
   "metadata": {
    "colab": {
     "referenced_widgets": [
      "9d55e4f4df7c48d295ae8d0c92115745"
     ]
    },
    "id": "49cb1931-8a4a-4f67-910e-9fd6c004b61e",
    "outputId": "57a4be22-2e9c-4153-80f0-c2852bb5c23b",
    "tags": []
   },
   "outputs": [
    {
     "name": "stderr",
     "output_type": "stream",
     "text": [
      "StrToComposition: 100%|██████████| 7108/7108 [00:03<00:00, 1934.57it/s]\n",
      "\n"
     ]
    },
    {
     "data": {
      "text/html": [
       "<div>\n",
       "<style scoped>\n",
       "    .dataframe tbody tr th:only-of-type {\n",
       "        vertical-align: middle;\n",
       "    }\n",
       "\n",
       "    .dataframe tbody tr th {\n",
       "        vertical-align: top;\n",
       "    }\n",
       "\n",
       "    .dataframe thead th {\n",
       "        text-align: right;\n",
       "    }\n",
       "</style>\n",
       "<table border=\"1\" class=\"dataframe\">\n",
       "  <thead>\n",
       "    <tr style=\"text-align: right;\">\n",
       "      <th></th>\n",
       "      <th>material_id</th>\n",
       "      <th>formula_pretty</th>\n",
       "      <th>formula_anonymous</th>\n",
       "      <th>structure</th>\n",
       "      <th>chemsys</th>\n",
       "      <th>is_metal</th>\n",
       "      <th>symmetry</th>\n",
       "      <th>k_voigt</th>\n",
       "      <th>k_reuss</th>\n",
       "      <th>k_vrh</th>\n",
       "      <th>g_voigt</th>\n",
       "      <th>g_reuss</th>\n",
       "      <th>g_vrh</th>\n",
       "      <th>universal_anisotropy</th>\n",
       "      <th>homogeneous_poisson</th>\n",
       "      <th>symmetry_number</th>\n",
       "      <th>composition</th>\n",
       "    </tr>\n",
       "  </thead>\n",
       "  <tbody>\n",
       "    <tr>\n",
       "      <th>0</th>\n",
       "      <td>mp-23004</td>\n",
       "      <td>CsMgCl3</td>\n",
       "      <td>ABC3</td>\n",
       "      <td># generated using pymatgen\\ndata_CsMgCl3\\n_sym...</td>\n",
       "      <td>Cl-Cs-Mg</td>\n",
       "      <td>False</td>\n",
       "      <td>crystal_system=&lt;CrystalSystem.hex_: 'Hexagonal...</td>\n",
       "      <td>13.854623</td>\n",
       "      <td>12.956739</td>\n",
       "      <td>13.405681</td>\n",
       "      <td>7.202808</td>\n",
       "      <td>3.154573</td>\n",
       "      <td>5.178690</td>\n",
       "      <td>6.485755</td>\n",
       "      <td>0.328882</td>\n",
       "      <td>194</td>\n",
       "      <td>(Cs, Mg, Cl)</td>\n",
       "    </tr>\n",
       "    <tr>\n",
       "      <th>1</th>\n",
       "      <td>mp-5784</td>\n",
       "      <td>Na2GeO3</td>\n",
       "      <td>AB2C3</td>\n",
       "      <td># generated using pymatgen\\ndata_Na2GeO3\\n_sym...</td>\n",
       "      <td>Ge-Na-O</td>\n",
       "      <td>False</td>\n",
       "      <td>crystal_system=&lt;CrystalSystem.ortho: 'Orthorho...</td>\n",
       "      <td>53.780124</td>\n",
       "      <td>52.594577</td>\n",
       "      <td>53.187351</td>\n",
       "      <td>28.936248</td>\n",
       "      <td>26.443242</td>\n",
       "      <td>27.689745</td>\n",
       "      <td>0.493929</td>\n",
       "      <td>0.278188</td>\n",
       "      <td>36</td>\n",
       "      <td>(Na, Ge, O)</td>\n",
       "    </tr>\n",
       "    <tr>\n",
       "      <th>2</th>\n",
       "      <td>mp-4681</td>\n",
       "      <td>NaNbO3</td>\n",
       "      <td>ABC3</td>\n",
       "      <td># generated using pymatgen\\ndata_NaNbO3\\n_symm...</td>\n",
       "      <td>Na-Nb-O</td>\n",
       "      <td>False</td>\n",
       "      <td>crystal_system=&lt;CrystalSystem.ortho: 'Orthorho...</td>\n",
       "      <td>88.850213</td>\n",
       "      <td>83.266084</td>\n",
       "      <td>86.058148</td>\n",
       "      <td>55.184470</td>\n",
       "      <td>47.672711</td>\n",
       "      <td>51.428591</td>\n",
       "      <td>0.854911</td>\n",
       "      <td>0.250833</td>\n",
       "      <td>26</td>\n",
       "      <td>(Na, Nb, O)</td>\n",
       "    </tr>\n",
       "    <tr>\n",
       "      <th>3</th>\n",
       "      <td>mp-754318</td>\n",
       "      <td>MnZnO3</td>\n",
       "      <td>ABC3</td>\n",
       "      <td># generated using pymatgen\\ndata_MnZnO3\\n_symm...</td>\n",
       "      <td>Mn-O-Zn</td>\n",
       "      <td>False</td>\n",
       "      <td>crystal_system=&lt;CrystalSystem.trig: 'Trigonal'...</td>\n",
       "      <td>161.655076</td>\n",
       "      <td>158.225588</td>\n",
       "      <td>159.940332</td>\n",
       "      <td>61.303782</td>\n",
       "      <td>38.534549</td>\n",
       "      <td>49.919166</td>\n",
       "      <td>2.976067</td>\n",
       "      <td>0.358650</td>\n",
       "      <td>148</td>\n",
       "      <td>(Mn, Zn, O)</td>\n",
       "    </tr>\n",
       "    <tr>\n",
       "      <th>4</th>\n",
       "      <td>mp-555064</td>\n",
       "      <td>Cd(CO2)2</td>\n",
       "      <td>AB2C4</td>\n",
       "      <td># generated using pymatgen\\ndata_Cd(CO2)2\\n_sy...</td>\n",
       "      <td>C-Cd-O</td>\n",
       "      <td>False</td>\n",
       "      <td>crystal_system=&lt;CrystalSystem.mono: 'Monoclini...</td>\n",
       "      <td>54.364652</td>\n",
       "      <td>32.837697</td>\n",
       "      <td>43.601175</td>\n",
       "      <td>28.961662</td>\n",
       "      <td>16.161801</td>\n",
       "      <td>22.561731</td>\n",
       "      <td>4.615468</td>\n",
       "      <td>0.279333</td>\n",
       "      <td>14</td>\n",
       "      <td>(Cd, C, O)</td>\n",
       "    </tr>\n",
       "  </tbody>\n",
       "</table>\n",
       "</div>"
      ],
      "text/plain": [
       "  material_id formula_pretty formula_anonymous  \\\n",
       "0    mp-23004        CsMgCl3              ABC3   \n",
       "1     mp-5784        Na2GeO3             AB2C3   \n",
       "2     mp-4681         NaNbO3              ABC3   \n",
       "3   mp-754318         MnZnO3              ABC3   \n",
       "4   mp-555064       Cd(CO2)2             AB2C4   \n",
       "\n",
       "                                           structure   chemsys  is_metal  \\\n",
       "0  # generated using pymatgen\\ndata_CsMgCl3\\n_sym...  Cl-Cs-Mg     False   \n",
       "1  # generated using pymatgen\\ndata_Na2GeO3\\n_sym...   Ge-Na-O     False   \n",
       "2  # generated using pymatgen\\ndata_NaNbO3\\n_symm...   Na-Nb-O     False   \n",
       "3  # generated using pymatgen\\ndata_MnZnO3\\n_symm...   Mn-O-Zn     False   \n",
       "4  # generated using pymatgen\\ndata_Cd(CO2)2\\n_sy...    C-Cd-O     False   \n",
       "\n",
       "                                            symmetry     k_voigt     k_reuss  \\\n",
       "0  crystal_system=<CrystalSystem.hex_: 'Hexagonal...   13.854623   12.956739   \n",
       "1  crystal_system=<CrystalSystem.ortho: 'Orthorho...   53.780124   52.594577   \n",
       "2  crystal_system=<CrystalSystem.ortho: 'Orthorho...   88.850213   83.266084   \n",
       "3  crystal_system=<CrystalSystem.trig: 'Trigonal'...  161.655076  158.225588   \n",
       "4  crystal_system=<CrystalSystem.mono: 'Monoclini...   54.364652   32.837697   \n",
       "\n",
       "        k_vrh    g_voigt    g_reuss      g_vrh  universal_anisotropy  \\\n",
       "0   13.405681   7.202808   3.154573   5.178690              6.485755   \n",
       "1   53.187351  28.936248  26.443242  27.689745              0.493929   \n",
       "2   86.058148  55.184470  47.672711  51.428591              0.854911   \n",
       "3  159.940332  61.303782  38.534549  49.919166              2.976067   \n",
       "4   43.601175  28.961662  16.161801  22.561731              4.615468   \n",
       "\n",
       "   homogeneous_poisson  symmetry_number   composition  \n",
       "0             0.328882              194  (Cs, Mg, Cl)  \n",
       "1             0.278188               36   (Na, Ge, O)  \n",
       "2             0.250833               26   (Na, Nb, O)  \n",
       "3             0.358650              148   (Mn, Zn, O)  \n",
       "4             0.279333               14    (Cd, C, O)  "
      ]
     },
     "execution_count": 44,
     "metadata": {},
     "output_type": "execute_result"
    }
   ],
   "source": [
    "# Str to composition descriptor\n",
    "from matminer.featurizers.conversions import StrToComposition\n",
    "\n",
    "df_form = df.copy()\n",
    "\n",
    "df_form = StrToComposition().featurize_dataframe(df_form, \"formula_pretty\")\n",
    "df_form.head()"
   ]
  },
  {
   "cell_type": "markdown",
   "id": "5bab7b8d-2c3a-4248-9ae9-33c3c40ef714",
   "metadata": {
    "id": "5bab7b8d-2c3a-4248-9ae9-33c3c40ef714"
   },
   "source": [
    "## Element Property in Magpie"
   ]
  },
  {
   "cell_type": "code",
   "execution_count": 45,
   "id": "f187850d-8d28-4d07-95d6-59123a47b91e",
   "metadata": {
    "colab": {
     "referenced_widgets": [
      "c9be5f3348a04e469609764b2f7a102f"
     ]
    },
    "id": "f187850d-8d28-4d07-95d6-59123a47b91e",
    "outputId": "c4ad47b4-77d7-45f2-dd54-928dafc731d2",
    "tags": []
   },
   "outputs": [
    {
     "name": "stderr",
     "output_type": "stream",
     "text": [
      "ElementProperty: 100%|██████████| 7108/7108 [00:16<00:00, 438.98it/s]\n"
     ]
    },
    {
     "data": {
      "text/html": [
       "<div>\n",
       "<style scoped>\n",
       "    .dataframe tbody tr th:only-of-type {\n",
       "        vertical-align: middle;\n",
       "    }\n",
       "\n",
       "    .dataframe tbody tr th {\n",
       "        vertical-align: top;\n",
       "    }\n",
       "\n",
       "    .dataframe thead th {\n",
       "        text-align: right;\n",
       "    }\n",
       "</style>\n",
       "<table border=\"1\" class=\"dataframe\">\n",
       "  <thead>\n",
       "    <tr style=\"text-align: right;\">\n",
       "      <th></th>\n",
       "      <th>material_id</th>\n",
       "      <th>formula_pretty</th>\n",
       "      <th>formula_anonymous</th>\n",
       "      <th>structure</th>\n",
       "      <th>chemsys</th>\n",
       "      <th>is_metal</th>\n",
       "      <th>symmetry</th>\n",
       "      <th>k_voigt</th>\n",
       "      <th>k_reuss</th>\n",
       "      <th>k_vrh</th>\n",
       "      <th>...</th>\n",
       "      <th>MagpieData range GSmagmom</th>\n",
       "      <th>MagpieData mean GSmagmom</th>\n",
       "      <th>MagpieData avg_dev GSmagmom</th>\n",
       "      <th>MagpieData mode GSmagmom</th>\n",
       "      <th>MagpieData minimum SpaceGroupNumber</th>\n",
       "      <th>MagpieData maximum SpaceGroupNumber</th>\n",
       "      <th>MagpieData range SpaceGroupNumber</th>\n",
       "      <th>MagpieData mean SpaceGroupNumber</th>\n",
       "      <th>MagpieData avg_dev SpaceGroupNumber</th>\n",
       "      <th>MagpieData mode SpaceGroupNumber</th>\n",
       "    </tr>\n",
       "  </thead>\n",
       "  <tbody>\n",
       "    <tr>\n",
       "      <th>0</th>\n",
       "      <td>mp-23004</td>\n",
       "      <td>CsMgCl3</td>\n",
       "      <td>ABC3</td>\n",
       "      <td># generated using pymatgen\\ndata_CsMgCl3\\n_sym...</td>\n",
       "      <td>Cl-Cs-Mg</td>\n",
       "      <td>False</td>\n",
       "      <td>crystal_system=&lt;CrystalSystem.hex_: 'Hexagonal...</td>\n",
       "      <td>13.854623</td>\n",
       "      <td>12.956739</td>\n",
       "      <td>13.405681</td>\n",
       "      <td>...</td>\n",
       "      <td>0.00000</td>\n",
       "      <td>0.000000</td>\n",
       "      <td>0.000000</td>\n",
       "      <td>0.0</td>\n",
       "      <td>64.0</td>\n",
       "      <td>229.0</td>\n",
       "      <td>165.0</td>\n",
       "      <td>123.000000</td>\n",
       "      <td>70.800000</td>\n",
       "      <td>64.0</td>\n",
       "    </tr>\n",
       "    <tr>\n",
       "      <th>1</th>\n",
       "      <td>mp-5784</td>\n",
       "      <td>Na2GeO3</td>\n",
       "      <td>AB2C3</td>\n",
       "      <td># generated using pymatgen\\ndata_Na2GeO3\\n_sym...</td>\n",
       "      <td>Ge-Na-O</td>\n",
       "      <td>False</td>\n",
       "      <td>crystal_system=&lt;CrystalSystem.ortho: 'Orthorho...</td>\n",
       "      <td>53.780124</td>\n",
       "      <td>52.594577</td>\n",
       "      <td>53.187351</td>\n",
       "      <td>...</td>\n",
       "      <td>0.00000</td>\n",
       "      <td>0.000000</td>\n",
       "      <td>0.000000</td>\n",
       "      <td>0.0</td>\n",
       "      <td>12.0</td>\n",
       "      <td>229.0</td>\n",
       "      <td>217.0</td>\n",
       "      <td>119.833333</td>\n",
       "      <td>107.833333</td>\n",
       "      <td>12.0</td>\n",
       "    </tr>\n",
       "    <tr>\n",
       "      <th>2</th>\n",
       "      <td>mp-4681</td>\n",
       "      <td>NaNbO3</td>\n",
       "      <td>ABC3</td>\n",
       "      <td># generated using pymatgen\\ndata_NaNbO3\\n_symm...</td>\n",
       "      <td>Na-Nb-O</td>\n",
       "      <td>False</td>\n",
       "      <td>crystal_system=&lt;CrystalSystem.ortho: 'Orthorho...</td>\n",
       "      <td>88.850213</td>\n",
       "      <td>83.266084</td>\n",
       "      <td>86.058148</td>\n",
       "      <td>...</td>\n",
       "      <td>0.00000</td>\n",
       "      <td>0.000000</td>\n",
       "      <td>0.000000</td>\n",
       "      <td>0.0</td>\n",
       "      <td>12.0</td>\n",
       "      <td>229.0</td>\n",
       "      <td>217.0</td>\n",
       "      <td>98.800000</td>\n",
       "      <td>104.160000</td>\n",
       "      <td>12.0</td>\n",
       "    </tr>\n",
       "    <tr>\n",
       "      <th>3</th>\n",
       "      <td>mp-754318</td>\n",
       "      <td>MnZnO3</td>\n",
       "      <td>ABC3</td>\n",
       "      <td># generated using pymatgen\\ndata_MnZnO3\\n_symm...</td>\n",
       "      <td>Mn-O-Zn</td>\n",
       "      <td>False</td>\n",
       "      <td>crystal_system=&lt;CrystalSystem.trig: 'Trigonal'...</td>\n",
       "      <td>161.655076</td>\n",
       "      <td>158.225588</td>\n",
       "      <td>159.940332</td>\n",
       "      <td>...</td>\n",
       "      <td>0.00031</td>\n",
       "      <td>0.000062</td>\n",
       "      <td>0.000099</td>\n",
       "      <td>0.0</td>\n",
       "      <td>12.0</td>\n",
       "      <td>217.0</td>\n",
       "      <td>205.0</td>\n",
       "      <td>89.400000</td>\n",
       "      <td>92.880000</td>\n",
       "      <td>12.0</td>\n",
       "    </tr>\n",
       "    <tr>\n",
       "      <th>4</th>\n",
       "      <td>mp-555064</td>\n",
       "      <td>Cd(CO2)2</td>\n",
       "      <td>AB2C4</td>\n",
       "      <td># generated using pymatgen\\ndata_Cd(CO2)2\\n_sy...</td>\n",
       "      <td>C-Cd-O</td>\n",
       "      <td>False</td>\n",
       "      <td>crystal_system=&lt;CrystalSystem.mono: 'Monoclini...</td>\n",
       "      <td>54.364652</td>\n",
       "      <td>32.837697</td>\n",
       "      <td>43.601175</td>\n",
       "      <td>...</td>\n",
       "      <td>0.00000</td>\n",
       "      <td>0.000000</td>\n",
       "      <td>0.000000</td>\n",
       "      <td>0.0</td>\n",
       "      <td>12.0</td>\n",
       "      <td>194.0</td>\n",
       "      <td>182.0</td>\n",
       "      <td>90.000000</td>\n",
       "      <td>89.142857</td>\n",
       "      <td>12.0</td>\n",
       "    </tr>\n",
       "  </tbody>\n",
       "</table>\n",
       "<p>5 rows × 149 columns</p>\n",
       "</div>"
      ],
      "text/plain": [
       "  material_id formula_pretty formula_anonymous  \\\n",
       "0    mp-23004        CsMgCl3              ABC3   \n",
       "1     mp-5784        Na2GeO3             AB2C3   \n",
       "2     mp-4681         NaNbO3              ABC3   \n",
       "3   mp-754318         MnZnO3              ABC3   \n",
       "4   mp-555064       Cd(CO2)2             AB2C4   \n",
       "\n",
       "                                           structure   chemsys  is_metal  \\\n",
       "0  # generated using pymatgen\\ndata_CsMgCl3\\n_sym...  Cl-Cs-Mg     False   \n",
       "1  # generated using pymatgen\\ndata_Na2GeO3\\n_sym...   Ge-Na-O     False   \n",
       "2  # generated using pymatgen\\ndata_NaNbO3\\n_symm...   Na-Nb-O     False   \n",
       "3  # generated using pymatgen\\ndata_MnZnO3\\n_symm...   Mn-O-Zn     False   \n",
       "4  # generated using pymatgen\\ndata_Cd(CO2)2\\n_sy...    C-Cd-O     False   \n",
       "\n",
       "                                            symmetry     k_voigt     k_reuss  \\\n",
       "0  crystal_system=<CrystalSystem.hex_: 'Hexagonal...   13.854623   12.956739   \n",
       "1  crystal_system=<CrystalSystem.ortho: 'Orthorho...   53.780124   52.594577   \n",
       "2  crystal_system=<CrystalSystem.ortho: 'Orthorho...   88.850213   83.266084   \n",
       "3  crystal_system=<CrystalSystem.trig: 'Trigonal'...  161.655076  158.225588   \n",
       "4  crystal_system=<CrystalSystem.mono: 'Monoclini...   54.364652   32.837697   \n",
       "\n",
       "        k_vrh  ...  MagpieData range GSmagmom  MagpieData mean GSmagmom  \\\n",
       "0   13.405681  ...                    0.00000                  0.000000   \n",
       "1   53.187351  ...                    0.00000                  0.000000   \n",
       "2   86.058148  ...                    0.00000                  0.000000   \n",
       "3  159.940332  ...                    0.00031                  0.000062   \n",
       "4   43.601175  ...                    0.00000                  0.000000   \n",
       "\n",
       "   MagpieData avg_dev GSmagmom  MagpieData mode GSmagmom  \\\n",
       "0                     0.000000                       0.0   \n",
       "1                     0.000000                       0.0   \n",
       "2                     0.000000                       0.0   \n",
       "3                     0.000099                       0.0   \n",
       "4                     0.000000                       0.0   \n",
       "\n",
       "   MagpieData minimum SpaceGroupNumber  MagpieData maximum SpaceGroupNumber  \\\n",
       "0                                 64.0                                229.0   \n",
       "1                                 12.0                                229.0   \n",
       "2                                 12.0                                229.0   \n",
       "3                                 12.0                                217.0   \n",
       "4                                 12.0                                194.0   \n",
       "\n",
       "  MagpieData range SpaceGroupNumber  MagpieData mean SpaceGroupNumber  \\\n",
       "0                             165.0                        123.000000   \n",
       "1                             217.0                        119.833333   \n",
       "2                             217.0                         98.800000   \n",
       "3                             205.0                         89.400000   \n",
       "4                             182.0                         90.000000   \n",
       "\n",
       "   MagpieData avg_dev SpaceGroupNumber  MagpieData mode SpaceGroupNumber  \n",
       "0                            70.800000                              64.0  \n",
       "1                           107.833333                              12.0  \n",
       "2                           104.160000                              12.0  \n",
       "3                            92.880000                              12.0  \n",
       "4                            89.142857                              12.0  \n",
       "\n",
       "[5 rows x 149 columns]"
      ]
     },
     "execution_count": 45,
     "metadata": {},
     "output_type": "execute_result"
    }
   ],
   "source": [
    "# Element Property Descriptor magpie\n",
    "\n",
    "from matminer.featurizers.composition import ElementProperty\n",
    "\n",
    "ep_feat = ElementProperty.from_preset(preset_name=\"magpie\")\n",
    "df_form = ep_feat.featurize_dataframe(df_form, col_id=\"composition\")  # input the \"composition\" column to the featurizer\n",
    "df_form.head()"
   ]
  },
  {
   "cell_type": "markdown",
   "id": "c2f86fcb-93f1-4a7f-b6e2-0e8f9700189a",
   "metadata": {},
   "source": [
    "## Data Input"
   ]
  },
  {
   "cell_type": "code",
   "execution_count": 50,
   "id": "e28acb19-29c9-41c7-bd74-6f32b593ce65",
   "metadata": {},
   "outputs": [],
   "source": [
    "import numpy as np\n",
    "from sklearn.model_selection import train_test_split\n",
    "\n",
    "df_form = df_form.dropna()\n",
    "\n",
    "feat_col = np.array(df_form.columns[17:])\n",
    "\n",
    "# Label\n",
    "k_vrh = df_form['k_vrh']\n",
    "g_vrh = df_form['g_vrh']\n",
    "uni_ani = df_form['universal_anisotropy']\n",
    "hom_poi = df_form['homogeneous_poisson']\n",
    "\n",
    "# Input data\n",
    "X = df_form[feat_col]"
   ]
  },
  {
   "cell_type": "code",
   "execution_count": null,
   "id": "03b66c88-2f38-41ff-ae0c-4526db771586",
   "metadata": {},
   "outputs": [],
   "source": [
    "np.save('./TrainingData/feat_col.npy', feat_col)\n",
    "\n",
    "np.save('./TrainingData/k_vrh.npy', k_vrh.values)\n",
    "np.save('./TrainingData/g_vrh.npy', g_vrh.values)\n",
    "np.save('./TrainingData/universal_anisotropy.npy', uni_ani.values)\n",
    "np.save('./TrainingData/homogeneous_poisson.npy', hom_poi.values)\n",
    "\n",
    "# Input data\n",
    "np.save('./TrainingData/element_property_descriptor.npy', X.values)"
   ]
  },
  {
   "cell_type": "code",
   "execution_count": null,
   "id": "e7a8bfab-398c-4067-a50a-6db49e1d25b0",
   "metadata": {},
   "outputs": [],
   "source": [
    "feat_col = np.load('./TrainingData/feat_col.npy', allow_pickle=True)\n",
    "k_vrh = np.load('./TrainingData/k_vrh.npy')\n",
    "g_vrh = np.load('./TrainingData/g_vrh.npy')\n",
    "uni_ani = np.load('./TrainingData/universal_anisotropy.npy')\n",
    "hom_poi = np.load('./TrainingData/homogeneous_poisson.npy')\n",
    "X = np.load('./TrainingData/element_property_descriptor.npy')\n"
   ]
  },
  {
   "cell_type": "markdown",
   "id": "29326f42-65c6-413d-b7b9-67565aa51820",
   "metadata": {
    "id": "29326f42-65c6-413d-b7b9-67565aa51820",
    "jp-MarkdownHeadingCollapsed": true,
    "tags": []
   },
   "source": [
    "## Structure Descriptors"
   ]
  },
  {
   "cell_type": "code",
   "execution_count": null,
   "id": "f26811a4-85ca-434f-aff4-cfafbe5204b9",
   "metadata": {
    "id": "f26811a4-85ca-434f-aff4-cfafbe5204b9",
    "tags": []
   },
   "outputs": [],
   "source": [
    "from matminer.featurizers.base import MultipleFeaturizer\n",
    "from matminer.featurizers.composition import ElementProperty, Stoichiometry, ValenceOrbital, IonProperty\n",
    "from matminer.featurizers.structure import (SiteStatsFingerprint, StructuralHeterogeneity,\n",
    "                                            ChemicalOrdering, StructureComposition, MaximumPackingEfficiency)"
   ]
  },
  {
   "cell_type": "code",
   "execution_count": null,
   "id": "0fe124f6-8573-4890-a0b4-4cb3fadb518e",
   "metadata": {
    "id": "0fe124f6-8573-4890-a0b4-4cb3fadb518e",
    "tags": []
   },
   "outputs": [],
   "source": [
    "featurizer = MultipleFeaturizer([\n",
    "    SiteStatsFingerprint.from_preset(\"CoordinationNumber_ward-prb-2017\"),\n",
    "    StructuralHeterogeneity(),\n",
    "    ChemicalOrdering(),\n",
    "    MaximumPackingEfficiency(),\n",
    "    SiteStatsFingerprint.from_preset(\"LocalPropertyDifference_ward-prb-2017\"),\n",
    "    StructureComposition(Stoichiometry()),\n",
    "    StructureComposition(ElementProperty.from_preset(\"magpie\")),\n",
    "    StructureComposition(ValenceOrbital(props=['frac'])),\n",
    "    StructureComposition(IonProperty(fast=True))\n",
    "])"
   ]
  },
  {
   "cell_type": "code",
   "execution_count": null,
   "id": "462ab152-e822-43c4-b754-d940c0e7e19a",
   "metadata": {
    "colab": {
     "referenced_widgets": [
      "701e91346c584758acbed461d6291968"
     ]
    },
    "id": "462ab152-e822-43c4-b754-d940c0e7e19a",
    "outputId": "e1b2807b-50c9-4e8f-8324-cf679a18a815",
    "tags": []
   },
   "outputs": [],
   "source": [
    "df_loaded.head()"
   ]
  },
  {
   "cell_type": "code",
   "execution_count": null,
   "id": "b72a2645-12ea-4ed3-8f0c-e1c136381b05",
   "metadata": {
    "colab": {
     "referenced_widgets": [
      "2fe90a840b274b76bbea18d8518529dd"
     ]
    },
    "id": "b72a2645-12ea-4ed3-8f0c-e1c136381b05",
    "outputId": "ce05fb6a-2a6f-452f-df33-a56edb270a90",
    "tags": []
   },
   "outputs": [],
   "source": [
    "test_df = df_loaded.copy()\n",
    "test_df = test_df.iloc[:3,:]\n",
    "structure = featurizer.featurize_many(test_df['structure'], ignore_errors=True)"
   ]
  },
  {
   "cell_type": "markdown",
   "id": "35fb784d-45c8-415b-947b-0ef659acc3ec",
   "metadata": {
    "id": "35fb784d-45c8-415b-947b-0ef659acc3ec",
    "tags": []
   },
   "source": [
    "# Deep Learning"
   ]
  },
  {
   "cell_type": "markdown",
   "id": "c7b57d02-f8e3-40ae-95fb-b673b882eb02",
   "metadata": {
    "id": "c7b57d02-f8e3-40ae-95fb-b673b882eb02"
   },
   "source": [
    "## Importing Package"
   ]
  },
  {
   "cell_type": "code",
   "execution_count": 33,
   "id": "f3846536-8d5f-44d7-93dd-8f452176b0d1",
   "metadata": {
    "id": "f3846536-8d5f-44d7-93dd-8f452176b0d1",
    "outputId": "0a65b6f6-d202-4874-d772-10d4a14ea79f",
    "tags": []
   },
   "outputs": [
    {
     "name": "stderr",
     "output_type": "stream",
     "text": [
      "2023-11-28 18:22:46.298187: I tensorflow/core/util/port.cc:110] oneDNN custom operations are on. You may see slightly different numerical results due to floating-point round-off errors from different computation orders. To turn them off, set the environment variable `TF_ENABLE_ONEDNN_OPTS=0`.\n",
      "2023-11-28 18:22:46.300468: I tensorflow/tsl/cuda/cudart_stub.cc:28] Could not find cuda drivers on your machine, GPU will not be used.\n",
      "2023-11-28 18:22:46.346415: I tensorflow/tsl/cuda/cudart_stub.cc:28] Could not find cuda drivers on your machine, GPU will not be used.\n",
      "2023-11-28 18:22:46.346920: I tensorflow/core/platform/cpu_feature_guard.cc:182] This TensorFlow binary is optimized to use available CPU instructions in performance-critical operations.\n",
      "To enable the following instructions: AVX2 AVX512F AVX512_VNNI FMA, in other operations, rebuild TensorFlow with the appropriate compiler flags.\n",
      "2023-11-28 18:22:46.913259: W tensorflow/compiler/tf2tensorrt/utils/py_utils.cc:38] TF-TRT Warning: Could not find TensorRT\n"
     ]
    }
   ],
   "source": [
    "import tensorflow as tf\n",
    "import json\n",
    "import seaborn as sns\n",
    "\n",
    "import matplotlib.pyplot as plt\n",
    "from mpl_toolkits.mplot3d import Axes3D"
   ]
  },
  {
   "cell_type": "markdown",
   "id": "9db5add5-610c-4f78-a368-17a499e9e727",
   "metadata": {
    "id": "9db5add5-610c-4f78-a368-17a499e9e727"
   },
   "source": [
    "## Train"
   ]
  },
  {
   "cell_type": "code",
   "execution_count": 53,
   "id": "97517c96-8fbc-4ca5-a969-d1fef933f35a",
   "metadata": {
    "collapsed": true,
    "id": "97517c96-8fbc-4ca5-a969-d1fef933f35a",
    "jupyter": {
     "outputs_hidden": true
    },
    "outputId": "176aaf41-49f6-4df0-eb8c-8cb5da29e32d",
    "tags": []
   },
   "outputs": [
    {
     "name": "stdout",
     "output_type": "stream",
     "text": [
      "Epoch 1/10\n",
      "143/143 [==============================] - 1s 4ms/step - loss: 105.0935 - val_loss: 103.4902\n",
      "Epoch 2/10\n",
      "143/143 [==============================] - 1s 4ms/step - loss: 99.6071 - val_loss: 97.2704\n",
      "Epoch 3/10\n",
      "143/143 [==============================] - 0s 3ms/step - loss: 94.3704 - val_loss: 92.5911\n",
      "Epoch 4/10\n",
      "143/143 [==============================] - 1s 4ms/step - loss: 90.5914 - val_loss: 89.1979\n",
      "Epoch 5/10\n",
      "143/143 [==============================] - 0s 3ms/step - loss: 87.4221 - val_loss: 85.9135\n",
      "Epoch 6/10\n",
      "143/143 [==============================] - 0s 3ms/step - loss: 84.1018 - val_loss: 82.2920\n",
      "Epoch 7/10\n",
      "143/143 [==============================] - 0s 3ms/step - loss: 80.3462 - val_loss: 78.2889\n",
      "Epoch 8/10\n",
      "143/143 [==============================] - 0s 3ms/step - loss: 76.3971 - val_loss: 74.2995\n",
      "Epoch 9/10\n",
      "143/143 [==============================] - 0s 3ms/step - loss: 72.6685 - val_loss: 70.6907\n",
      "Epoch 10/10\n",
      "143/143 [==============================] - 0s 3ms/step - loss: 69.4468 - val_loss: 67.6103\n"
     ]
    }
   ],
   "source": [
    "# Split the data into training and validation sets\n",
    "X_train, X_test, y_train, y_test = train_test_split(X, k_vrh, test_size=0.2, random_state=42)\n",
    "\n",
    "normalizer = tf.keras.layers.Normalization(axis=-1)\n",
    "normalizer.adapt(np.array(X))\n",
    "\n",
    "# Define the input layer with the appropriate input shape\n",
    "input_layer = tf.keras.layers.Input(shape=(len(feat_col),))\n",
    "\n",
    "model = tf.keras.Sequential([\n",
    "        input_layer,\n",
    "        normalizer,\n",
    "        tf.keras.layers.Dense(8, activation='relu'),\n",
    "        tf.keras.layers.Dense(1)\n",
    "    ])\n",
    "\n",
    "model.compile(loss='mean_absolute_error',\n",
    "              optimizer=tf.keras.optimizers.Adam(learning_rate=0.001))\n",
    "\n",
    "history = model.fit(\n",
    "    np.array(X_train),\n",
    "    np.array(y_train),\n",
    "    epochs=10,\n",
    "    verbose=1,\n",
    "    validation_split=0.2,\n",
    "    callbacks=[tf.keras.callbacks.EarlyStopping(patience=3)],\n",
    "    batch_size=32\n",
    ")"
   ]
  },
  {
   "cell_type": "code",
   "execution_count": null,
   "id": "6588e8cd-e3ac-4b9d-b6a0-8d4ebc7e1b5a",
   "metadata": {
    "id": "6588e8cd-e3ac-4b9d-b6a0-8d4ebc7e1b5a",
    "outputId": "f93746de-99f2-428c-9409-b585152ac3b9"
   },
   "outputs": [],
   "source": [
    "# Define a list of different numbers of neurons and hidden layers\n",
    "neurons = [8, 16, 32, 64, 128, 256, ]\n",
    "hid_layers = [0, 1, 2, 3, 4, 5, 6]\n",
    "\n",
    "# Create an empty dictionary to store the results\n",
    "results = {}\n",
    "\n",
    "# Create a function to build and train the model with given parameters\n",
    "def build_and_train_model(num_neurons, num_hidden_layers):\n",
    "    # Define the input layer with the appropriate input shape\n",
    "    input_layer = tf.keras.layers.Input(shape=(len(feat_col),))\n",
    "\n",
    "    # Initialize a list to store the hidden layers\n",
    "    hidden_layers = []\n",
    "\n",
    "    # Create the hidden layers\n",
    "    for _ in range(num_hidden_layers):\n",
    "        hidden_layers.append(tf.keras.layers.Dense(num_neurons, activation='relu'))\n",
    "\n",
    "    # Define the model\n",
    "    model = tf.keras.Sequential([input_layer] + hidden_layers + [tf.keras.layers.Dense(1)])\n",
    "\n",
    "    # Compile the model\n",
    "    model.compile(loss='mean_absolute_error', optimizer=tf.keras.optimizers.Adam(learning_rate=0.001))\n",
    "\n",
    "    # Train the model\n",
    "    history = model.fit(\n",
    "        np.array(train_dataset),\n",
    "        np.array(train_labels),\n",
    "        epochs=10,\n",
    "        verbose=0,\n",
    "        validation_split=0.2,\n",
    "        callbacks=[tf.keras.callbacks.EarlyStopping(patience=3)],\n",
    "        batch_size=32\n",
    "    )\n",
    "\n",
    "    # Extract the final validation loss\n",
    "    loss = history.history['val_loss'][-1]\n",
    "\n",
    "    return loss\n",
    "\n",
    "# Iterate through the number of hidden layers first\n",
    "for num_hidden_layers in hid_layers:\n",
    "    # Create a dictionary for the results of this number of hidden layers\n",
    "    results[num_hidden_layers] = {}\n",
    "\n",
    "    # Iterate through the different numbers of neurons\n",
    "    for num_neurons in neurons:\n",
    "        loss = build_and_train_model(num_neurons, num_hidden_layers)\n",
    "        results[num_hidden_layers][num_neurons] = loss"
   ]
  },
  {
   "cell_type": "code",
   "execution_count": null,
   "id": "f3ba4c9c-0aa7-4555-889e-f26d7e247a21",
   "metadata": {
    "id": "f3ba4c9c-0aa7-4555-889e-f26d7e247a21",
    "outputId": "f58074b7-baea-4ead-9943-07d6da33c64c"
   },
   "outputs": [],
   "source": [
    "# Print the results\n",
    "for num_hidden_layers, neurons_loss in results.items():\n",
    "    print(f'Hidden Layers: {num_hidden_layers}')\n",
    "    for num_neurons, loss in neurons_loss.items():\n",
    "        print(f'  Neurons: {num_neurons}, Final Validation Loss: {loss}')"
   ]
  },
  {
   "cell_type": "markdown",
   "id": "510b8f05-7cb7-48d8-b036-a9b8ca2fa2e8",
   "metadata": {
    "id": "510b8f05-7cb7-48d8-b036-a9b8ca2fa2e8",
    "jp-MarkdownHeadingCollapsed": true,
    "tags": []
   },
   "source": [
    "### Saving"
   ]
  },
  {
   "cell_type": "code",
   "execution_count": null,
   "id": "58c536a8-8f4d-485e-8286-b719ce32a9a9",
   "metadata": {
    "id": "58c536a8-8f4d-485e-8286-b719ce32a9a9"
   },
   "outputs": [],
   "source": [
    "import json\n",
    "\n",
    "# Save the results to a JSON file\n",
    "with open('Results/FormulaResults.json', 'w') as json_file:\n",
    "    json.dump(results, json_file)"
   ]
  },
  {
   "cell_type": "markdown",
   "id": "150f46d2-10d3-48f1-baad-bd651b39594a",
   "metadata": {
    "id": "150f46d2-10d3-48f1-baad-bd651b39594a",
    "jp-MarkdownHeadingCollapsed": true,
    "tags": []
   },
   "source": [
    "### Opening results"
   ]
  },
  {
   "cell_type": "code",
   "execution_count": 31,
   "id": "c1c3c7c9-5b1b-4ff4-bbe5-d10c89d8ef14",
   "metadata": {
    "collapsed": true,
    "id": "c1c3c7c9-5b1b-4ff4-bbe5-d10c89d8ef14",
    "jupyter": {
     "outputs_hidden": true
    },
    "outputId": "daada1df-16c6-405d-a703-4f8883b428a9",
    "tags": []
   },
   "outputs": [
    {
     "ename": "NameError",
     "evalue": "name 'json' is not defined",
     "output_type": "error",
     "traceback": [
      "\u001b[0;31m---------------------------------------------------------------------------\u001b[0m",
      "\u001b[0;31mNameError\u001b[0m                                 Traceback (most recent call last)",
      "Cell \u001b[0;32mIn[31], line 3\u001b[0m\n\u001b[1;32m      1\u001b[0m \u001b[38;5;66;03m# Load the results from the JSON file\u001b[39;00m\n\u001b[1;32m      2\u001b[0m \u001b[38;5;28;01mwith\u001b[39;00m \u001b[38;5;28mopen\u001b[39m(\u001b[38;5;124m'\u001b[39m\u001b[38;5;124mResults/FormulaResults1.json\u001b[39m\u001b[38;5;124m'\u001b[39m, \u001b[38;5;124m'\u001b[39m\u001b[38;5;124mr\u001b[39m\u001b[38;5;124m'\u001b[39m) \u001b[38;5;28;01mas\u001b[39;00m json_file:\n\u001b[0;32m----> 3\u001b[0m     results \u001b[38;5;241m=\u001b[39m \u001b[43mjson\u001b[49m\u001b[38;5;241m.\u001b[39mload(json_file)\n\u001b[1;32m      5\u001b[0m results[\u001b[38;5;124m'\u001b[39m\u001b[38;5;124m0\u001b[39m\u001b[38;5;124m'\u001b[39m]\n",
      "\u001b[0;31mNameError\u001b[0m: name 'json' is not defined"
     ]
    }
   ],
   "source": [
    "import json\n",
    "\n",
    "# Load the results from the JSON file\n",
    "with open('Results/FormulaResults1.json', 'r') as json_file:\n",
    "    results = json.load(json_file)"
   ]
  },
  {
   "cell_type": "code",
   "execution_count": 57,
   "id": "9ccc1aad-d788-4818-8034-279feb5b28ca",
   "metadata": {
    "id": "9ccc1aad-d788-4818-8034-279feb5b28ca",
    "outputId": "da92f28f-faa3-4ddd-fa90-3031ba4ca668"
   },
   "outputs": [],
   "source": [
    "import json\n",
    "\n",
    "# Load the results from the JSON file\n",
    "with open('Results/FormulaResults2.json', 'r') as json_file:\n",
    "    results = json.load(json_file)"
   ]
  },
  {
   "cell_type": "markdown",
   "id": "5d74c571-6984-45b4-be3e-abccb22f562f",
   "metadata": {
    "id": "5d74c571-6984-45b4-be3e-abccb22f562f"
   },
   "source": [
    "### Getting the best model"
   ]
  },
  {
   "cell_type": "code",
   "execution_count": 58,
   "id": "352d2cb9-6449-4f61-af17-a7e7971facdd",
   "metadata": {
    "id": "352d2cb9-6449-4f61-af17-a7e7971facdd",
    "outputId": "d9f5087b-c359-45f3-91a2-49fc5df3d96f"
   },
   "outputs": [
    {
     "name": "stdout",
     "output_type": "stream",
     "text": [
      "Best Model:\n",
      "  Hidden Layers: 6\n",
      "  Neurons: 256\n",
      "  Lowest Validation Loss: 25.6633358001709\n"
     ]
    }
   ],
   "source": [
    "# Initialize variables to track the best model and its loss\n",
    "best_loss = float('inf')  # Initialize to positive infinity\n",
    "best_hidden_layers = None\n",
    "best_neurons = None\n",
    "\n",
    "# Iterate through the results\n",
    "for num_hidden_layers, neurons_loss in results.items():\n",
    "    for num_neurons, loss in neurons_loss.items():\n",
    "        if loss < best_loss:\n",
    "            best_loss = loss\n",
    "            best_hidden_layers = num_hidden_layers\n",
    "            best_neurons = num_neurons\n",
    "\n",
    "# Print the best model\n",
    "print(f'Best Model:')\n",
    "print(f'  Hidden Layers: {best_hidden_layers}')\n",
    "print(f'  Neurons: {best_neurons}')\n",
    "print(f'  Lowest Validation Loss: {best_loss}')"
   ]
  },
  {
   "cell_type": "markdown",
   "id": "d0ffcb5a-155c-456f-adec-e3614fa6c857",
   "metadata": {
    "id": "d0ffcb5a-155c-456f-adec-e3614fa6c857"
   },
   "source": [
    "### Saving the best model"
   ]
  },
  {
   "cell_type": "code",
   "execution_count": null,
   "id": "b1cf6bbe-a218-4e23-9921-136ed17f68f5",
   "metadata": {
    "id": "b1cf6bbe-a218-4e23-9921-136ed17f68f5",
    "outputId": "cf3f61b9-333f-4281-bca5-1a0593c85fc5",
    "tags": []
   },
   "outputs": [],
   "source": [
    "# Define the input layer with the appropriate input shape\n",
    "input_layer = tf.keras.layers.Input(shape=(len(feat_col),))\n",
    "\n",
    "normalizer = tf.keras.layers.Normalization(axis=-1)\n",
    "normalizer.adapt(np.array(X))\n",
    "\n",
    "# Initialize a list to store the hidden layers\n",
    "hidden_layers = []\n",
    "\n",
    "# Create the hidden layers\n",
    "for _ in range(int(best_hidden_layers)):\n",
    "    hidden_layers.append(tf.keras.layers.Dense(int(best_neurons), activation='relu'))\n",
    "\n",
    "# Define the model\n",
    "model = tf.keras.Sequential([input_layer, normalizer] + hidden_layers + [tf.keras.layers.Dense(1)])\n",
    "\n",
    "# Compile the model\n",
    "model.compile(loss='mean_absolute_error', optimizer=tf.keras.optimizers.Adam(learning_rate=0.001))\n",
    "\n",
    "# Train the model\n",
    "history = model.fit(\n",
    "    X_train,\n",
    "    y_train,\n",
    "    epochs=5000,\n",
    "    verbose=1,\n",
    "    validation_split=0.2,\n",
    "    callbacks=[tf.keras.callbacks.EarlyStopping(patience=10)],\n",
    "    batch_size=8\n",
    ")\n",
    "\n",
    "model.save(\"Models/Formula_Layers_Neurons.h5\")"
   ]
  },
  {
   "cell_type": "markdown",
   "id": "2ca160c1-12c8-4b5e-880b-9c98c58ad183",
   "metadata": {},
   "source": [
    "## Learning Rate"
   ]
  },
  {
   "cell_type": "code",
   "execution_count": null,
   "id": "d4897523-383c-47e7-8ba4-27eea9281c1b",
   "metadata": {},
   "outputs": [],
   "source": [
    "learning_rate_range = [0.01, 0.001, 0.0001, 0.00001, 0.000001]\n",
    "losses = []\n",
    "\n",
    "# Define the input layer with the appropriate input shape\n",
    "input_layer = tf.keras.layers.Input(shape=(len(feat_col),))\n",
    "\n",
    "# Initialize a list to store the hidden layers\n",
    "hidden_layers = []\n",
    "\n",
    "for learning_rate in learning_rate_range:\n",
    "\n",
    "    # Create the hidden layers\n",
    "    for _ in range(int(best_hidden_layers)):\n",
    "        hidden_layers.append(tf.keras.layers.Dense(int(best_neurons), activation='relu'))\n",
    "\n",
    "    # Define the model\n",
    "    model = tf.keras.Sequential([input_layer] + hidden_layers + [tf.keras.layers.Dense(1)])\n",
    "\n",
    "    # Compile the model\n",
    "    model.compile(loss='mean_absolute_error', optimizer=tf.keras.optimizers.Adam(learning_rate=learning_rate))\n",
    "\n",
    "    # Train the model\n",
    "    history = model.fit(\n",
    "        X_train,\n",
    "        y_train,\n",
    "        epochs=10,\n",
    "        verbose=0,\n",
    "        validation_split=0.2,\n",
    "        callbacks=[tf.keras.callbacks.EarlyStopping(patience=10)],\n",
    "        batch_size=32\n",
    "    )\n",
    "    \n",
    "    last_epoch_loss = history.history['val_loss'][-1]\n",
    "\n",
    "    losses.append(last_epoch_loss)"
   ]
  },
  {
   "cell_type": "code",
   "execution_count": null,
   "id": "32d80894-0f09-427e-9807-171e11a5801b",
   "metadata": {},
   "outputs": [],
   "source": [
    "# Split the data into training and validation sets\n",
    "X_train, X_test, y_train, y_test = train_test_split(X, k_vrh, test_size=0.2, random_state=42)\n",
    "\n",
    "# Define a list of different numbers of neurons and hidden layers\n",
    "neurons = [8, 16, 32, 64, 128, 256, ]\n",
    "hid_layers = [0, 1, 2, 3, 4, 5, 6]\n",
    "learning_rate_ranges = [0.01, 0.001, 0.0001, 0.00001, 0.000001]\n",
    "\n",
    "# Create an empty dictionary to store the results\n",
    "results = {}\n",
    "\n",
    "# Create a function to build and train the model with given parameters\n",
    "def build_and_train_model(num_neurons, num_hidden_layers, learning_rate):\n",
    "    \n",
    "    # Define the input layer with the appropriate input shape\n",
    "    input_layer = tf.keras.layers.Input(shape=(len(feat_col),))\n",
    "\n",
    "    # Initialize a list to store the hidden layers\n",
    "    hidden_layers = []\n",
    "\n",
    "    # Create the hidden layers\n",
    "    for _ in range(num_hidden_layers):\n",
    "        hidden_layers.append(tf.keras.layers.Dense(num_neurons, activation='relu'))\n",
    "\n",
    "    # Define the model\n",
    "    model = tf.keras.Sequential([input_layer] + hidden_layers + [tf.keras.layers.Dense(1)])\n",
    "\n",
    "    # Compile the model\n",
    "    model.compile(loss='mean_absolute_error', optimizer=tf.keras.optimizers.Adam(learning_rate=learning_rate))\n",
    "\n",
    "    # Train the model\n",
    "    history = model.fit(\n",
    "        np.array(X_train),\n",
    "        np.array(y_train),\n",
    "        epochs=10,\n",
    "        verbose=0,\n",
    "        validation_split=0.2,\n",
    "        callbacks=[tf.keras.callbacks.EarlyStopping(patience=3)],\n",
    "        batch_size=32\n",
    "    )\n",
    "\n",
    "    # Extract the final validation loss\n",
    "    loss = history.history['val_loss'][-1]\n",
    "        \n",
    "\n",
    "    return loss\n",
    "\n",
    "# Iterate through the number of hidden layers first\n",
    "for num_hidden_layers in hid_layers:\n",
    "    # Create a dictionary for the results of this number of hidden layers\n",
    "    results[num_hidden_layers] = {}\n",
    "\n",
    "    # Iterate through the different numbers of neurons\n",
    "    for num_neurons in neurons:\n",
    "        results[num_hidden_layers][num_neurons] = {}\n",
    "        \n",
    "        for learning_rate in learning_rate_ranges:\n",
    "            loss = build_and_train_model(num_neurons, num_hidden_layers, learning_rate)\n",
    "            print(f'{num_hidden_layers=}, {num_neurons=}, {learning_rate=}, {loss=}')\n",
    "            results[num_hidden_layers][num_neurons][learning_rate] = loss"
   ]
  },
  {
   "cell_type": "code",
   "execution_count": null,
   "id": "f8ebff54-f826-4093-b785-9e1fa5badaf3",
   "metadata": {},
   "outputs": [],
   "source": [
    "import matplotlib.pyplot as plt\n",
    "\n",
    "plt.figure(figsize=(8, 6))\n",
    "plt.plot(learning_rate_range, losses, linestyle='--', marker='o', color='r')\n",
    "plt.grid(True)\n",
    "plt.xlabel('Learning Rate Range', fontsize=12)\n",
    "plt.ylabel('Mean Absolute Error', fontsize=12)\n",
    "plt.margins(0.05)\n",
    "\n",
    "# Set x-axis to logarithmic scale\n",
    "plt.gca().set_xscale('log')\n",
    "\n",
    "plt.savefig('Images/LearningRateRange.png', dpi=300)\n",
    "plt.show()\n"
   ]
  },
  {
   "cell_type": "markdown",
   "id": "35ad342b-2910-49c2-b579-4ecc5e46785c",
   "metadata": {
    "id": "35ad342b-2910-49c2-b579-4ecc5e46785c",
    "tags": []
   },
   "source": [
    "# Model Comparition"
   ]
  },
  {
   "cell_type": "code",
   "execution_count": 59,
   "id": "c1c05873-7b04-4982-a009-2237ede01336",
   "metadata": {},
   "outputs": [],
   "source": [
    "import tensorflow as tf\n",
    "import numpy as np\n",
    "from sklearn.model_selection import train_test_split\n",
    "from sklearn.metrics import mean_absolute_error\n",
    "from sklearn.metrics import r2_score\n",
    "\n",
    "model = tf.keras.models.load_model(\"Models/Formula_Layers_Neurons.h5\")\n",
    "X = np.load('TrainingData/element_property_descriptor.npy')\n",
    "k_vrh = np.load('TrainingData/k_vrh.npy')\n",
    "\n",
    "X_train, X_test, y_train, y_test = train_test_split(X, k_vrh, test_size = 0.2, random_state = 42)"
   ]
  },
  {
   "cell_type": "code",
   "execution_count": 60,
   "id": "62c6c35f-da5a-422e-8dbc-12925d0b3ea4",
   "metadata": {
    "tags": []
   },
   "outputs": [
    {
     "name": "stdout",
     "output_type": "stream",
     "text": [
      "45/45 [==============================] - 0s 4ms/step\n"
     ]
    },
    {
     "name": "stderr",
     "output_type": "stream",
     "text": [
      "/tmp/ipykernel_29607/4211920069.py:22: MatplotlibDeprecationWarning: The get_cmap function was deprecated in Matplotlib 3.7 and will be removed two minor releases later. Use ``matplotlib.colormaps[name]`` or ``matplotlib.colormaps.get_cmap(obj)`` instead.\n",
      "  cmap = plt.cm.get_cmap('cividis')\n",
      "/tmp/ipykernel_29607/4211920069.py:39: MatplotlibDeprecationWarning: Unable to determine Axes to steal space for Colorbar. Using gca(), but will raise in the future. Either provide the *cax* argument to use as the Axes for the Colorbar, provide the *ax* argument to steal space from it, or add *mappable* to an Axes.\n",
      "  cbar = plt.colorbar(sm)\n"
     ]
    },
    {
     "data": {
      "image/png": "[encoded data removed]",
      "text/plain": [
       "<Figure size 800x600 with 2 Axes>"
      ]
     },
     "metadata": {},
     "output_type": "display_data"
    }
   ],
   "source": [
    "import matplotlib.pyplot as plt\n",
    "\n",
    "y_pred = model.predict(X_test)\n",
    "y_pred = y_pred[:,0]\n",
    "\n",
    "mse = mean_absolute_error(y_test, y_pred)\n",
    "mse_text = f\"Mean Absolute Error: {mse:.2f}\"\n",
    "\n",
    "r2 = r2_score(y_test, y_pred)\n",
    "r2_text = f\"R2 Score: {r2:.2f}\"\n",
    "\n",
    "from sklearn.linear_model import LinearRegression\n",
    "\n",
    "lr = LinearRegression()\n",
    "lr.fit(y_test.reshape(-1,1), y_pred)\n",
    "slope, intercept = lr.coef_[0], lr.intercept_\n",
    "\n",
    "diff = np.abs(y_test-y_pred)\n",
    "\n",
    "norm = plt.Normalize(vmin=0, vmax=np.max(diff))\n",
    "\n",
    "cmap = plt.cm.get_cmap('cividis')\n",
    "colors = cmap(norm(diff))\n",
    "\n",
    "plt.figure(figsize=(8, 6))\n",
    "plt.scatter(y_test, y_pred, c=colors, alpha=0.5)\n",
    "plt.plot(y_test, slope*y_test + intercept, linestyle='dashed')\n",
    "plt.xlabel(\"Actual Values\")\n",
    "plt.ylabel(\"Predicted Values\")\n",
    "# plt.title(\"Prediction vs. Actual Values\")\n",
    "\n",
    "plt.text(0.05, 0.8, mse_text, transform=plt.gca().transAxes, fontsize=10, bbox=dict(facecolor='white', alpha=0.8))\n",
    "plt.text(0.05, 0.9, r2_text, transform=plt.gca().transAxes, fontsize=10, bbox=dict(facecolor='white', alpha=0.8))\n",
    "plt.text(0.05, 0.7, \"ANN\", transform=plt.gca().transAxes, fontsize=10, bbox=dict(facecolor='white', alpha=0.8))\n",
    "\n",
    "\n",
    "sm = plt.cm.ScalarMappable(cmap='cividis', norm=norm)\n",
    "sm.set_array([])\n",
    "cbar = plt.colorbar(sm)\n",
    "cbar.ax.set_ylabel('|Actual - Predicted|', rotation=270, fontsize = 15, labelpad=15)\n",
    "plt.savefig('Images/ANNActualVsPredicted_El.png', dpi=300, bbox_inches='tight')\n",
    "plt.show()"
   ]
  },
  {
   "cell_type": "markdown",
   "id": "117543dd-037c-4928-942a-772b326f7984",
   "metadata": {},
   "source": [
    "# Xgboost"
   ]
  },
  {
   "cell_type": "markdown",
   "id": "44f2baf8-84f3-44a8-9861-9d26ab93807a",
   "metadata": {},
   "source": [
    "## Train"
   ]
  },
  {
   "cell_type": "code",
   "execution_count": 64,
   "id": "183f3eb8-f51a-4b9d-bea0-552936711646",
   "metadata": {},
   "outputs": [],
   "source": [
    "import xgboost as xgb\n",
    "import numpy as np\n",
    "\n",
    "X = np.load('TrainingData/element_property_descriptor.npy')\n",
    "k_vrh = np.load('TrainingData/k_vrh.npy')\n",
    "\n",
    "# Split the data into training and validation sets\n",
    "X_train, X_test, y_train, y_test = train_test_split(X, k_vrh, test_size=0.2, random_state=42)\n",
    "\n",
    "# Convert your data into DMatrix format\n",
    "dtrain = xgb.DMatrix(X_train, label=y_train)\n",
    "dtest = xgb.DMatrix(X_test, label=y_test)\n",
    "\n",
    "params = {'objective': 'reg:squarederror'}\n",
    "\n",
    "num_round = 10\n",
    "model = xgb.train(params, dtrain, num_round)"
   ]
  },
  {
   "cell_type": "code",
   "execution_count": 65,
   "id": "0ef802ae-98f7-4a85-9a3a-a25cd21d8c92",
   "metadata": {},
   "outputs": [],
   "source": [
    "import pickle\n",
    "# Save the model to a file using pickle\n",
    "with open(\"Models/el_xgboost.pkl\", \"wb\") as model_file:\n",
    "    pickle.dump(model, model_file)"
   ]
  },
  {
   "cell_type": "code",
   "execution_count": 66,
   "id": "a932be7a-d7ff-47a7-a7c4-496b0fbcb6e5",
   "metadata": {},
   "outputs": [
    {
     "name": "stderr",
     "output_type": "stream",
     "text": [
      "/tmp/ipykernel_29607/134092078.py:27: MatplotlibDeprecationWarning: The get_cmap function was deprecated in Matplotlib 3.7 and will be removed two minor releases later. Use ``matplotlib.colormaps[name]`` or ``matplotlib.colormaps.get_cmap(obj)`` instead.\n",
      "  cmap = plt.cm.get_cmap('cividis')\n",
      "/tmp/ipykernel_29607/134092078.py:43: MatplotlibDeprecationWarning: Unable to determine Axes to steal space for Colorbar. Using gca(), but will raise in the future. Either provide the *cax* argument to use as the Axes for the Colorbar, provide the *ax* argument to steal space from it, or add *mappable* to an Axes.\n",
      "  cbar = plt.colorbar(sm)\n"
     ]
    },
    {
     "data": {
      "image/png": "[encoded data removed]",
      "text/plain": [
       "<Figure size 800x600 with 2 Axes>"
      ]
     },
     "metadata": {},
     "output_type": "display_data"
    }
   ],
   "source": [
    "import matplotlib.pyplot as plt\n",
    "\n",
    "# Load the model from the saved file\n",
    "with open(\"Models/el_xgboost.pkl\", \"rb\") as model_file:\n",
    "    model = pickle.load(model_file)\n",
    "\n",
    "dtest = xgb.DMatrix(X_test, label=y_test)\n",
    "\n",
    "y_pred = model.predict(dtest)\n",
    "\n",
    "mse = mean_absolute_error(y_test, y_pred)\n",
    "mse_text = f\"Mean Absolute Error: {mse:.2f}\"\n",
    "\n",
    "r2 = r2_score(y_test, y_pred)\n",
    "r2_text = f\"R2 Score: {r2:.2f}\"\n",
    "\n",
    "from sklearn.linear_model import LinearRegression\n",
    "\n",
    "lr = LinearRegression()\n",
    "lr.fit(y_test.reshape(-1,1), y_pred)\n",
    "slope, intercept = lr.coef_[0], lr.intercept_\n",
    "\n",
    "diff = np.abs(y_test-y_pred)\n",
    "\n",
    "norm = plt.Normalize(vmin=0, vmax=np.max(diff))\n",
    "\n",
    "cmap = plt.cm.get_cmap('cividis')\n",
    "colors = cmap(norm(diff))\n",
    "\n",
    "plt.figure(figsize=(8, 6))\n",
    "plt.scatter(y_test, y_pred, c=colors, alpha=0.5)\n",
    "plt.plot(y_test, slope*y_test + intercept, linestyle='dashed')\n",
    "plt.xlabel(\"Actual Values\")\n",
    "plt.ylabel(\"Predicted Values\")\n",
    "# plt.title(\"Prediction vs. Actual Values\")\n",
    "\n",
    "plt.text(0.05, 0.8, mse_text, transform=plt.gca().transAxes, fontsize=10, bbox=dict(facecolor='white', alpha=0.8))\n",
    "plt.text(0.05, 0.9, r2_text, transform=plt.gca().transAxes, fontsize=10, bbox=dict(facecolor='white', alpha=0.8))\n",
    "plt.text(0.05, 0.7, \"XGBoost\", transform=plt.gca().transAxes, fontsize=10, bbox=dict(facecolor='white', alpha=0.8))\n",
    "\n",
    "sm = plt.cm.ScalarMappable(cmap='cividis', norm=norm)\n",
    "sm.set_array([])\n",
    "cbar = plt.colorbar(sm)\n",
    "cbar.ax.set_ylabel('|Actual - Predicted|', rotation=270, fontsize = 15, labelpad=15)\n",
    "plt.savefig('Images/XgBoostActualVsPredicted_El.png', dpi=300, bbox_inches='tight')\n",
    "plt.show()"
   ]
  },
  {
   "cell_type": "markdown",
   "id": "a2d8500f-8687-4b5f-8a9c-7692d591eb64",
   "metadata": {
    "id": "a2d8500f-8687-4b5f-8a9c-7692d591eb64"
   },
   "source": [
    "# 4. Research Graph"
   ]
  },
  {
   "cell_type": "markdown",
   "id": "47dbca53-d922-4d77-99c2-2fad36d036e3",
   "metadata": {
    "id": "47dbca53-d922-4d77-99c2-2fad36d036e3"
   },
   "source": [
    "## Formula"
   ]
  },
  {
   "cell_type": "code",
   "execution_count": 67,
   "id": "1e114777-9062-47bf-a0b7-3be9f45db956",
   "metadata": {
    "id": "1e114777-9062-47bf-a0b7-3be9f45db956"
   },
   "outputs": [],
   "source": [
    "from mpl_toolkits.mplot3d import Axes3D\n",
    "from matplotlib.ticker import MaxNLocator\n",
    "from matplotlib import cm\n",
    "\n",
    "# Load the results from the JSON file\n",
    "with open('Results/FormulaResults2.json', 'r') as json_file:\n",
    "    results = json.load(json_file)\n",
    "\n",
    "# Extract the number of neurons, hidden layers, and corresponding losses\n",
    "neurons = [8, 16, 32, 64, 128, 256]\n",
    "hid_layers = [0, 1, 2, 3, 4, 5, 6]\n",
    "losses = []"
   ]
  },
  {
   "cell_type": "code",
   "execution_count": 68,
   "id": "3d0c53c1-554d-46c4-b4b1-7a4663786b84",
   "metadata": {
    "id": "3d0c53c1-554d-46c4-b4b1-7a4663786b84",
    "outputId": "b531c6f5-8046-48c8-8ace-6f01c6ca358a"
   },
   "outputs": [
    {
     "data": {
      "image/png": "[encoded data removed]",
      "text/plain": [
       "<Figure size 1000x600 with 2 Axes>"
      ]
     },
     "metadata": {},
     "output_type": "display_data"
    }
   ],
   "source": [
    "for num_hidden_layers in hid_layers:\n",
    "    loss_row = []\n",
    "    for num_neurons in neurons:\n",
    "        loss = results[str(num_hidden_layers)][str(num_neurons)]\n",
    "        loss_row.append(loss)\n",
    "    losses.append(loss_row)\n",
    "\n",
    "# Create a heatmap\n",
    "plt.figure(figsize=(10, 6))\n",
    "sns.heatmap(losses, annot=True, xticklabels=neurons, yticklabels=hid_layers, cmap='YlGnBu')\n",
    "plt.xlabel('Neurons')\n",
    "plt.ylabel('Hidden Layers')\n",
    "plt.savefig('Images/Formula_loss_heatmap.png', dpi=300, bbox_inches='tight')\n",
    "plt.show()\n"
   ]
  },
  {
   "cell_type": "code",
   "execution_count": 69,
   "id": "8c1d14e2-c96a-4648-baa8-a2f30f08f040",
   "metadata": {
    "id": "8c1d14e2-c96a-4648-baa8-a2f30f08f040"
   },
   "outputs": [],
   "source": [
    "losses = []\n",
    "for num_hidden_layers in hid_layers:\n",
    "    for num_neurons in neurons:\n",
    "        loss = results[str(num_hidden_layers)][str(num_neurons)]\n",
    "        losses.append(loss)"
   ]
  },
  {
   "cell_type": "code",
   "execution_count": 70,
   "id": "fc917236-676a-4385-a6e8-95ab389a5404",
   "metadata": {
    "id": "fc917236-676a-4385-a6e8-95ab389a5404",
    "outputId": "332ba031-14ff-4abb-8017-2dfe9eeca2d5"
   },
   "outputs": [
    {
     "data": {
      "image/png": "[encoded data removed]",
      "text/plain": [
       "<Figure size 1000x600 with 2 Axes>"
      ]
     },
     "metadata": {},
     "output_type": "display_data"
    }
   ],
   "source": [
    "# Create a meshgrid for x and y\n",
    "X, Y = np.meshgrid(neurons, hid_layers)\n",
    "\n",
    "# Reshape the losses to match the dimensions of X and Y\n",
    "Z = np.array(losses).reshape(X.shape)\n",
    "\n",
    "# Create the 3D plot with better settings\n",
    "fig = plt.figure(figsize=(10, 6))\n",
    "ax = fig.add_subplot(111, projection='3d')\n",
    "\n",
    "# Plot the surface with smooth shading and color map\n",
    "surf = ax.plot_surface(X, Y, Z, cmap='YlGnBu', linewidth=0, antialiased=True)\n",
    "\n",
    "# Set axes labels and title\n",
    "ax.set_xlabel('Neurons')\n",
    "ax.set_ylabel('Hidden Layers')\n",
    "ax.set_zlabel('')\n",
    "ax.set_title('')  # Remove the title\n",
    "\n",
    "# Set ticks and labels to be more legible\n",
    "ax.xaxis.set_major_locator(MaxNLocator(integer=True))\n",
    "ax.yaxis.set_major_locator(MaxNLocator(integer=True))\n",
    "\n",
    "# Add color bar for reference, show it to the right\n",
    "color_bar = fig.colorbar(surf, shrink=0.5, aspect=10)\n",
    "color_bar.set_label('Loss')\n",
    "\n",
    "# Customize viewing angle for better presentation\n",
    "ax.view_init(elev=20, azim=-40)\n",
    "\n",
    "# Save the figure as an image file for publication\n",
    "plt.savefig('Images/Formula_loss_surface.png', dpi=300, bbox_inches='tight')\n",
    "\n",
    "# Show the plot (for visualization)\n",
    "plt.show()"
   ]
  }
 ],
 "metadata": {
  "colab": {
   "provenance": []
  },
  "kernelspec": {
   "display_name": "MachineLearning",
   "language": "python",
   "name": "machinelearning"
  },
  "language_info": {
   "codemirror_mode": {
    "name": "ipython",
    "version": 3
   },
   "file_extension": ".py",
   "mimetype": "text/x-python",
   "name": "python",
   "nbconvert_exporter": "python",
   "pygments_lexer": "ipython3",
   "version": "3.8.17"
  },
  "toc-autonumbering": true,
  "widgets": {
   "application/vnd.jupyter.widget-state+json": {
    "20d78e29036d40359906961fda1fe0de": {
     "model_module": "@jupyter-widgets/controls",
     "model_module_version": "1.5.0",
     "model_name": "DescriptionStyleModel",
     "state": {
      "_model_module": "@jupyter-widgets/controls",
      "_model_module_version": "1.5.0",
      "_model_name": "DescriptionStyleModel",
      "_view_count": null,
      "_view_module": "@jupyter-widgets/base",
      "_view_module_version": "1.2.0",
      "_view_name": "StyleView",
      "description_width": ""
     }
    },
    "497ade18b77243b7be8664abc93b2f07": {
     "model_module": "@jupyter-widgets/base",
     "model_module_version": "1.2.0",
     "model_name": "LayoutModel",
     "state": {
      "_model_module": "@jupyter-widgets/base",
      "_model_module_version": "1.2.0",
      "_model_name": "LayoutModel",
      "_view_count": null,
      "_view_module": "@jupyter-widgets/base",
      "_view_module_version": "1.2.0",
      "_view_name": "LayoutView",
      "align_content": null,
      "align_items": null,
      "align_self": null,
      "border": null,
      "bottom": null,
      "display": null,
      "flex": null,
      "flex_flow": null,
      "grid_area": null,
      "grid_auto_columns": null,
      "grid_auto_flow": null,
      "grid_auto_rows": null,
      "grid_column": null,
      "grid_gap": null,
      "grid_row": null,
      "grid_template_areas": null,
      "grid_template_columns": null,
      "grid_template_rows": null,
      "height": null,
      "justify_content": null,
      "justify_items": null,
      "left": null,
      "margin": null,
      "max_height": null,
      "max_width": null,
      "min_height": null,
      "min_width": null,
      "object_fit": null,
      "object_position": null,
      "order": null,
      "overflow": null,
      "overflow_x": null,
      "overflow_y": null,
      "padding": null,
      "right": null,
      "top": null,
      "visibility": null,
      "width": null
     }
    },
    "62ad3927ae2d4489b170fc392e25e57e": {
     "model_module": "@jupyter-widgets/base",
     "model_module_version": "1.2.0",
     "model_name": "LayoutModel",
     "state": {
      "_model_module": "@jupyter-widgets/base",
      "_model_module_version": "1.2.0",
      "_model_name": "LayoutModel",
      "_view_count": null,
      "_view_module": "@jupyter-widgets/base",
      "_view_module_version": "1.2.0",
      "_view_name": "LayoutView",
      "align_content": null,
      "align_items": null,
      "align_self": null,
      "border": null,
      "bottom": null,
      "display": null,
      "flex": null,
      "flex_flow": null,
      "grid_area": null,
      "grid_auto_columns": null,
      "grid_auto_flow": null,
      "grid_auto_rows": null,
      "grid_column": null,
      "grid_gap": null,
      "grid_row": null,
      "grid_template_areas": null,
      "grid_template_columns": null,
      "grid_template_rows": null,
      "height": null,
      "justify_content": null,
      "justify_items": null,
      "left": null,
      "margin": null,
      "max_height": null,
      "max_width": null,
      "min_height": null,
      "min_width": null,
      "object_fit": null,
      "object_position": null,
      "order": null,
      "overflow": null,
      "overflow_x": null,
      "overflow_y": null,
      "padding": null,
      "right": null,
      "top": null,
      "visibility": null,
      "width": null
     }
    },
    "6bb2056e5ad74b80b7da0a4a9cea932a": {
     "model_module": "@jupyter-widgets/controls",
     "model_module_version": "1.5.0",
     "model_name": "FloatProgressModel",
     "state": {
      "_dom_classes": [],
      "_model_module": "@jupyter-widgets/controls",
      "_model_module_version": "1.5.0",
      "_model_name": "FloatProgressModel",
      "_view_count": null,
      "_view_module": "@jupyter-widgets/controls",
      "_view_module_version": "1.5.0",
      "_view_name": "ProgressView",
      "bar_style": "success",
      "description": "",
      "description_tooltip": null,
      "layout": "IPY_MODEL_62ad3927ae2d4489b170fc392e25e57e",
      "max": 7108,
      "min": 0,
      "orientation": "horizontal",
      "style": "IPY_MODEL_aa4b465608774cef8485e62a97993d40",
      "value": 7108
     }
    },
    "7a2418f47bf34f3bb0349f47d0c0af72": {
     "model_module": "@jupyter-widgets/controls",
     "model_module_version": "1.5.0",
     "model_name": "DescriptionStyleModel",
     "state": {
      "_model_module": "@jupyter-widgets/controls",
      "_model_module_version": "1.5.0",
      "_model_name": "DescriptionStyleModel",
      "_view_count": null,
      "_view_module": "@jupyter-widgets/base",
      "_view_module_version": "1.2.0",
      "_view_name": "StyleView",
      "description_width": ""
     }
    },
    "aa3c7df4614d40838a1047b36505e638": {
     "model_module": "@jupyter-widgets/controls",
     "model_module_version": "1.5.0",
     "model_name": "HTMLModel",
     "state": {
      "_dom_classes": [],
      "_model_module": "@jupyter-widgets/controls",
      "_model_module_version": "1.5.0",
      "_model_name": "HTMLModel",
      "_view_count": null,
      "_view_module": "@jupyter-widgets/controls",
      "_view_module_version": "1.5.0",
      "_view_name": "HTMLView",
      "description": "",
      "description_tooltip": null,
      "layout": "IPY_MODEL_db03b0e1ecc94feba184576c30c940b6",
      "placeholder": "​",
      "style": "IPY_MODEL_7a2418f47bf34f3bb0349f47d0c0af72",
      "value": " 7108/7108 [00:18&lt;00:00, 566.38it/s]"
     }
    },
    "aa4b465608774cef8485e62a97993d40": {
     "model_module": "@jupyter-widgets/controls",
     "model_module_version": "1.5.0",
     "model_name": "ProgressStyleModel",
     "state": {
      "_model_module": "@jupyter-widgets/controls",
      "_model_module_version": "1.5.0",
      "_model_name": "ProgressStyleModel",
      "_view_count": null,
      "_view_module": "@jupyter-widgets/base",
      "_view_module_version": "1.2.0",
      "_view_name": "StyleView",
      "bar_color": null,
      "description_width": ""
     }
    },
    "ae7cd4680653437ab3700ed012ff082c": {
     "model_module": "@jupyter-widgets/controls",
     "model_module_version": "1.5.0",
     "model_name": "HBoxModel",
     "state": {
      "_dom_classes": [],
      "_model_module": "@jupyter-widgets/controls",
      "_model_module_version": "1.5.0",
      "_model_name": "HBoxModel",
      "_view_count": null,
      "_view_module": "@jupyter-widgets/controls",
      "_view_module_version": "1.5.0",
      "_view_name": "HBoxView",
      "box_style": "",
      "children": [
       "IPY_MODEL_da018639fb094a199f3d6a2ac6e75cde",
       "IPY_MODEL_6bb2056e5ad74b80b7da0a4a9cea932a",
       "IPY_MODEL_aa3c7df4614d40838a1047b36505e638"
      ],
      "layout": "IPY_MODEL_d90c95ce7ccb4ec89f658b1782c4e340"
     }
    },
    "d90c95ce7ccb4ec89f658b1782c4e340": {
     "model_module": "@jupyter-widgets/base",
     "model_module_version": "1.2.0",
     "model_name": "LayoutModel",
     "state": {
      "_model_module": "@jupyter-widgets/base",
      "_model_module_version": "1.2.0",
      "_model_name": "LayoutModel",
      "_view_count": null,
      "_view_module": "@jupyter-widgets/base",
      "_view_module_version": "1.2.0",
      "_view_name": "LayoutView",
      "align_content": null,
      "align_items": null,
      "align_self": null,
      "border": null,
      "bottom": null,
      "display": null,
      "flex": null,
      "flex_flow": null,
      "grid_area": null,
      "grid_auto_columns": null,
      "grid_auto_flow": null,
      "grid_auto_rows": null,
      "grid_column": null,
      "grid_gap": null,
      "grid_row": null,
      "grid_template_areas": null,
      "grid_template_columns": null,
      "grid_template_rows": null,
      "height": null,
      "justify_content": null,
      "justify_items": null,
      "left": null,
      "margin": null,
      "max_height": null,
      "max_width": null,
      "min_height": null,
      "min_width": null,
      "object_fit": null,
      "object_position": null,
      "order": null,
      "overflow": null,
      "overflow_x": null,
      "overflow_y": null,
      "padding": null,
      "right": null,
      "top": null,
      "visibility": null,
      "width": null
     }
    },
    "da018639fb094a199f3d6a2ac6e75cde": {
     "model_module": "@jupyter-widgets/controls",
     "model_module_version": "1.5.0",
     "model_name": "HTMLModel",
     "state": {
      "_dom_classes": [],
      "_model_module": "@jupyter-widgets/controls",
      "_model_module_version": "1.5.0",
      "_model_name": "HTMLModel",
      "_view_count": null,
      "_view_module": "@jupyter-widgets/controls",
      "_view_module_version": "1.5.0",
      "_view_name": "HTMLView",
      "description": "",
      "description_tooltip": null,
      "layout": "IPY_MODEL_497ade18b77243b7be8664abc93b2f07",
      "placeholder": "​",
      "style": "IPY_MODEL_20d78e29036d40359906961fda1fe0de",
      "value": "Retrieving SummaryDoc documents: 100%"
     }
    },
    "db03b0e1ecc94feba184576c30c940b6": {
     "model_module": "@jupyter-widgets/base",
     "model_module_version": "1.2.0",
     "model_name": "LayoutModel",
     "state": {
      "_model_module": "@jupyter-widgets/base",
      "_model_module_version": "1.2.0",
      "_model_name": "LayoutModel",
      "_view_count": null,
      "_view_module": "@jupyter-widgets/base",
      "_view_module_version": "1.2.0",
      "_view_name": "LayoutView",
      "align_content": null,
      "align_items": null,
      "align_self": null,
      "border": null,
      "bottom": null,
      "display": null,
      "flex": null,
      "flex_flow": null,
      "grid_area": null,
      "grid_auto_columns": null,
      "grid_auto_flow": null,
      "grid_auto_rows": null,
      "grid_column": null,
      "grid_gap": null,
      "grid_row": null,
      "grid_template_areas": null,
      "grid_template_columns": null,
      "grid_template_rows": null,
      "height": null,
      "justify_content": null,
      "justify_items": null,
      "left": null,
      "margin": null,
      "max_height": null,
      "max_width": null,
      "min_height": null,
      "min_width": null,
      "object_fit": null,
      "object_position": null,
      "order": null,
      "overflow": null,
      "overflow_x": null,
      "overflow_y": null,
      "padding": null,
      "right": null,
      "top": null,
      "visibility": null,
      "width": null
     }
    }
   }
  }
 },
 "nbformat": 4,
 "nbformat_minor": 5
}
